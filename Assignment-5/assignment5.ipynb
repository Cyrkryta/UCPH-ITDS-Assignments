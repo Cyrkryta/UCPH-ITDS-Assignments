{
 "cells": [
  {
   "cell_type": "markdown",
   "metadata": {},
   "source": [
    "# Dependencies"
   ]
  },
  {
   "cell_type": "code",
   "execution_count": 6,
   "metadata": {},
   "outputs": [],
   "source": [
    "import matplotlib.pyplot as plt\n",
    "import numpy as np\n",
    "import pandas as pd\n",
    "import scipy\n",
    "import seaborn as sns"
   ]
  },
  {
   "cell_type": "markdown",
   "metadata": {},
   "source": [
    "# Exercise 1"
   ]
  },
  {
   "cell_type": "markdown",
   "metadata": {},
   "source": [
    "### Single-Layer Neural Network"
   ]
  },
  {
   "cell_type": "markdown",
   "metadata": {},
   "source": [
    "Single layer neural network\\\n",
    "One neuron with input features\\\n",
    "Weights associated with these features\\\n",
    "A bias\\\n",
    "Sigmoid activation function to make predictions\\\n",
    "Log loss"
   ]
  },
  {
   "cell_type": "code",
   "execution_count": 1,
   "metadata": {},
   "outputs": [],
   "source": [
    "def sigmoid(input):\n",
    "    output = 1 / (1 + np.exp(-input))\n",
    "    return output"
   ]
  },
  {
   "cell_type": "code",
   "execution_count": null,
   "metadata": {},
   "outputs": [],
   "source": [
    "def compute_loss(y, y_pred, learning_rate):\n",
    "    return None"
   ]
  },
  {
   "cell_type": "code",
   "execution_count": 8,
   "metadata": {},
   "outputs": [],
   "source": [
    "class SingleLayerNN:\n",
    "    def __init__(self, input_dimensions):\n",
    "        # Initializing weight and bias\n",
    "        self.weights = np.random.rand(len(input_dimensions), 1)\n",
    "        self.bias = 1\n",
    "\n",
    "    def predict(self, x):\n",
    "        '''\n",
    "        Sum up all the weights with added bias\n",
    "        Run the summed weights over the sigmoid function\n",
    "        Return the classification\n",
    "        '''\n",
    "        # Sum the weights\n",
    "        summed_weights = np.dot(self.weights, x) + self.bias\n",
    "        # Utilising activation function\n",
    "        classification = sigmoid(summed_weights)\n",
    "        # Making prediction\n",
    "        return classification\n",
    "\n",
    "    def train(self, X, y, epochs):\n",
    "        '''\n",
    "        Define the learning rate\n",
    "        For each epoch\n",
    "        Make prediction of the data\n",
    "        Calculate weight and bias derivatives\n",
    "        update weights and biases\n",
    "        '''\n",
    "        # Learning rate and prediction\n",
    "        learning_rate = 0.01\n",
    "\n",
    "        for epoch in range(epochs):\n",
    "            # Prediction\n",
    "            y_pred = self.predict(X)\n",
    "\n",
    "            # Loss / error\n",
    "            loss = -(y*np.log(y_pred)+(1-y)*np.log(1-y_pred))\n",
    "            cost = 1/len(y) * np.sum(loss)\n",
    "\n",
    "            # Compute gradients\n",
    "            weight_d = learning_rate*(y-y_pred)*y_pred*(1-y_pred)*X\n",
    "            b_d = learning_rate*(y-y_pred)*y_pred*(1-y_pred)\n",
    "\n",
    "            # Update weights and bias\n",
    "            self.weights = self.weights + weight_d\n",
    "            self.bias = self.bias + b_d\n",
    "\n",
    "            # Printing cost and iteration\n",
    "            print(f\"Cost after epoch {epoch}: {cost}\")"
   ]
  },
  {
   "cell_type": "markdown",
   "metadata": {},
   "source": [
    "# Exercise 2"
   ]
  },
  {
   "cell_type": "markdown",
   "metadata": {},
   "source": [
    "### Backpropagation"
   ]
  },
  {
   "cell_type": "markdown",
   "metadata": {},
   "source": [
    "All kinds of crazy stuff about backpropagation"
   ]
  },
  {
   "cell_type": "markdown",
   "metadata": {},
   "source": [
    "# Exercise 3"
   ]
  },
  {
   "cell_type": "markdown",
   "metadata": {},
   "source": [
    "### Word Embeddings"
   ]
  },
  {
   "cell_type": "markdown",
   "metadata": {},
   "source": [
    "All kinds of crazy stuff about word embeddings"
   ]
  },
  {
   "cell_type": "markdown",
   "metadata": {},
   "source": [
    "# Exercise 4"
   ]
  },
  {
   "cell_type": "markdown",
   "metadata": {},
   "source": [
    "### Text Prediction"
   ]
  },
  {
   "cell_type": "markdown",
   "metadata": {},
   "source": [
    "All kinds of crazy stuff about text prediction"
   ]
  },
  {
   "cell_type": "markdown",
   "metadata": {},
   "source": [
    "# Exercise 5"
   ]
  },
  {
   "cell_type": "markdown",
   "metadata": {},
   "source": [
    "### Image Classification"
   ]
  },
  {
   "cell_type": "markdown",
   "metadata": {},
   "source": [
    "All kinds of crazy stuff about image classification"
   ]
  },
  {
   "cell_type": "markdown",
   "metadata": {},
   "source": []
  }
 ],
 "metadata": {
  "kernelspec": {
   "display_name": "ids-a5",
   "language": "python",
   "name": "python3"
  },
  "language_info": {
   "codemirror_mode": {
    "name": "ipython",
    "version": 3
   },
   "file_extension": ".py",
   "mimetype": "text/x-python",
   "name": "python",
   "nbconvert_exporter": "python",
   "pygments_lexer": "ipython3",
   "version": "3.10.13"
  }
 },
 "nbformat": 4,
 "nbformat_minor": 2
}
