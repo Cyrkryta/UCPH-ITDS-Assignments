{
 "cells": [
  {
   "cell_type": "markdown",
   "metadata": {},
   "source": [
    "# Dependencies"
   ]
  },
  {
   "cell_type": "code",
   "execution_count": 6,
   "metadata": {},
   "outputs": [],
   "source": [
    "import matplotlib.pyplot as plt\n",
    "import numpy as np\n",
    "import pandas as pd\n",
    "import scipy\n",
    "import seaborn as sns"
   ]
  },
  {
   "cell_type": "markdown",
   "metadata": {},
   "source": [
    "# Exercise 1"
   ]
  },
  {
   "cell_type": "markdown",
   "metadata": {},
   "source": [
    "### Single-Layer Neural Network"
   ]
  },
  {
   "cell_type": "markdown",
   "metadata": {},
   "source": [
    "Single layer neural network\\\n",
    "One neuron with input features\\\n",
    "Weights associated with these features\\\n",
    "A bias\\\n",
    "Sigmoid activation function to make predictions\\\n",
    "Log loss"
   ]
  },
  {
   "cell_type": "code",
   "execution_count": 13,
   "metadata": {},
   "outputs": [],
   "source": [
    "def sigmoid(input):\n",
    "    output = 1 / (1 + np.exp(-input))\n",
    "    return output"
   ]
  },
  {
   "cell_type": "code",
   "execution_count": 24,
   "metadata": {},
   "outputs": [],
   "source": [
    "class SingleLayerNN:\n",
    "    def __init__(self, input_dimensions):\n",
    "        # Initializing weight and bias\n",
    "        self.weights = np.random.rand(len(input_dimensions), 1)\n",
    "        self.bias = 1\n",
    "        self.input_dimensions = input_dimensions\n",
    "\n",
    "    def predict(self, x):\n",
    "        '''\n",
    "        Sum up all the weights with added bias\n",
    "        Run the summed weights over the sigmoid function\n",
    "        Return the classification\n",
    "        '''\n",
    "        # Sum the weights\n",
    "        summed_weights = np.dot(self.weights, x) + self.bias\n",
    "        # Utilising activation function\n",
    "        classification = sigmoid(summed_weights)\n",
    "        # Making prediction\n",
    "        return 1 if classification >= 0.5 else 0\n",
    "\n",
    "    def train(self, X, y, epochs):\n",
    "        # Defining the learning rate\n",
    "        learning_rate = 0.01\n",
    "        \n",
    "        # Go through epochs\n",
    "        for _ in range(epochs):\n",
    "            # Do some gradient descent shit\n",
    "            y_pred = predict(X)\n",
    "            loss = \n",
    "            for i in range(len(X)):\n",
    "                y_pred = predict(X[i])  # Predict for x[i]\n",
    "                loss =                 \n",
    "                # Update the bias\n",
    "                self.bias = self.bias - _* learning_rate\n",
    "        "
   ]
  },
  {
   "cell_type": "markdown",
   "metadata": {},
   "source": [
    "# Exercise 2"
   ]
  },
  {
   "cell_type": "markdown",
   "metadata": {},
   "source": [
    "### Backpropagation"
   ]
  },
  {
   "cell_type": "markdown",
   "metadata": {},
   "source": [
    "All kinds of crazy stuff about backpropagation"
   ]
  },
  {
   "cell_type": "markdown",
   "metadata": {},
   "source": [
    "# Exercise 3"
   ]
  },
  {
   "cell_type": "markdown",
   "metadata": {},
   "source": [
    "### Word Embeddings"
   ]
  },
  {
   "cell_type": "markdown",
   "metadata": {},
   "source": [
    "All kinds of crazy stuff about word embeddings"
   ]
  },
  {
   "cell_type": "markdown",
   "metadata": {},
   "source": [
    "# Exercise 4"
   ]
  },
  {
   "cell_type": "markdown",
   "metadata": {},
   "source": [
    "### Text Prediction"
   ]
  },
  {
   "cell_type": "markdown",
   "metadata": {},
   "source": [
    "All kinds of crazy stuff about text prediction"
   ]
  },
  {
   "cell_type": "markdown",
   "metadata": {},
   "source": [
    "# Exercise 5"
   ]
  },
  {
   "cell_type": "markdown",
   "metadata": {},
   "source": [
    "### Image Classification"
   ]
  },
  {
   "cell_type": "markdown",
   "metadata": {},
   "source": [
    "All kinds of crazy stuff about image classification"
   ]
  },
  {
   "cell_type": "markdown",
   "metadata": {},
   "source": []
  }
 ],
 "metadata": {
  "kernelspec": {
   "display_name": "ids-a5",
   "language": "python",
   "name": "python3"
  },
  "language_info": {
   "codemirror_mode": {
    "name": "ipython",
    "version": 3
   },
   "file_extension": ".py",
   "mimetype": "text/x-python",
   "name": "python",
   "nbconvert_exporter": "python",
   "pygments_lexer": "ipython3",
   "version": "3.10.13"
  }
 },
 "nbformat": 4,
 "nbformat_minor": 2
}
