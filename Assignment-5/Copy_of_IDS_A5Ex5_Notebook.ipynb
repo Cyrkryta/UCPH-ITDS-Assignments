{
  "nbformat": 4,
  "nbformat_minor": 0,
  "metadata": {
    "colab": {
      "provenance": []
    },
    "kernelspec": {
      "name": "python3",
      "display_name": "Python 3"
    },
    "language_info": {
      "name": "python"
    },
    "accelerator": "GPU",
    "gpuClass": "standard"
  },
  "cells": [
    {
      "cell_type": "markdown",
      "source": [
        "# IDS Assignment 5 – Computer Vision\n",
        "\n",
        "To work in this Colab notebook, first save a copy of it via \"File\" -> \"Save a copy in Drive\" in the top-left menu bar.\n"
      ],
      "metadata": {
        "id": "qL2_31R70NN0"
      }
    },
    {
      "cell_type": "markdown",
      "source": [
        "### 1. Install all missing packages that we need an download our custom FashionMNIST data\n",
        "\n",
        "The data files will be available locally in your Colab runtime. You can find them through the files menu on the left."
      ],
      "metadata": {
        "id": "tBBfHMPW0ZQ4"
      }
    },
    {
      "cell_type": "code",
      "source": [
        "# Install packages\n",
        "!pip install torchmetrics gdown\n",
        "\n",
        "# Download training, validation, and test splits\n",
        "!gdown https://drive.google.com/uc?id=1zYfBlExr_LK-Ld8rmxCTqRU5RAOUVVfh\n",
        "!gdown https://drive.google.com/uc?id=1PJa_I3qG0P5whuARV_Se1_YUvHzR469R\n",
        "!gdown https://drive.google.com/uc?id=1pC8-ummMGy1dPhHGPuNsms5_I7HpWgv2"
      ],
      "metadata": {
        "id": "OxY0aSy-6hGc",
        "colab": {
          "base_uri": "https://localhost:8080/"
        },
        "outputId": "1d26232a-4357-4637-c846-6a0735a64256"
      },
      "execution_count": null,
      "outputs": [
        {
          "output_type": "stream",
          "name": "stdout",
          "text": [
            "Collecting torchmetrics\n",
            "  Downloading torchmetrics-1.3.2-py3-none-any.whl (841 kB)\n",
            "\u001b[2K     \u001b[90m━━━━━━━━━━━━━━━━━━━━━━━━━━━━━━━━━━━━━━━━\u001b[0m \u001b[32m841.5/841.5 kB\u001b[0m \u001b[31m8.4 MB/s\u001b[0m eta \u001b[36m0:00:00\u001b[0m\n",
            "\u001b[?25hRequirement already satisfied: gdown in /usr/local/lib/python3.10/dist-packages (4.7.3)\n",
            "Requirement already satisfied: numpy>1.20.0 in /usr/local/lib/python3.10/dist-packages (from torchmetrics) (1.25.2)\n",
            "Requirement already satisfied: packaging>17.1 in /usr/local/lib/python3.10/dist-packages (from torchmetrics) (24.0)\n",
            "Requirement already satisfied: torch>=1.10.0 in /usr/local/lib/python3.10/dist-packages (from torchmetrics) (2.2.1+cu121)\n",
            "Collecting lightning-utilities>=0.8.0 (from torchmetrics)\n",
            "  Downloading lightning_utilities-0.11.2-py3-none-any.whl (26 kB)\n",
            "Requirement already satisfied: filelock in /usr/local/lib/python3.10/dist-packages (from gdown) (3.13.3)\n",
            "Requirement already satisfied: requests[socks] in /usr/local/lib/python3.10/dist-packages (from gdown) (2.31.0)\n",
            "Requirement already satisfied: six in /usr/local/lib/python3.10/dist-packages (from gdown) (1.16.0)\n",
            "Requirement already satisfied: tqdm in /usr/local/lib/python3.10/dist-packages (from gdown) (4.66.2)\n",
            "Requirement already satisfied: beautifulsoup4 in /usr/local/lib/python3.10/dist-packages (from gdown) (4.12.3)\n",
            "Requirement already satisfied: setuptools in /usr/local/lib/python3.10/dist-packages (from lightning-utilities>=0.8.0->torchmetrics) (67.7.2)\n",
            "Requirement already satisfied: typing-extensions in /usr/local/lib/python3.10/dist-packages (from lightning-utilities>=0.8.0->torchmetrics) (4.10.0)\n",
            "Requirement already satisfied: sympy in /usr/local/lib/python3.10/dist-packages (from torch>=1.10.0->torchmetrics) (1.12)\n",
            "Requirement already satisfied: networkx in /usr/local/lib/python3.10/dist-packages (from torch>=1.10.0->torchmetrics) (3.2.1)\n",
            "Requirement already satisfied: jinja2 in /usr/local/lib/python3.10/dist-packages (from torch>=1.10.0->torchmetrics) (3.1.3)\n",
            "Requirement already satisfied: fsspec in /usr/local/lib/python3.10/dist-packages (from torch>=1.10.0->torchmetrics) (2023.6.0)\n",
            "Collecting nvidia-cuda-nvrtc-cu12==12.1.105 (from torch>=1.10.0->torchmetrics)\n",
            "  Downloading nvidia_cuda_nvrtc_cu12-12.1.105-py3-none-manylinux1_x86_64.whl (23.7 MB)\n",
            "\u001b[2K     \u001b[90m━━━━━━━━━━━━━━━━━━━━━━━━━━━━━━━━━━━━━━━━\u001b[0m \u001b[32m23.7/23.7 MB\u001b[0m \u001b[31m51.6 MB/s\u001b[0m eta \u001b[36m0:00:00\u001b[0m\n",
            "\u001b[?25hCollecting nvidia-cuda-runtime-cu12==12.1.105 (from torch>=1.10.0->torchmetrics)\n",
            "  Downloading nvidia_cuda_runtime_cu12-12.1.105-py3-none-manylinux1_x86_64.whl (823 kB)\n",
            "\u001b[2K     \u001b[90m━━━━━━━━━━━━━━━━━━━━━━━━━━━━━━━━━━━━━━━━\u001b[0m \u001b[32m823.6/823.6 kB\u001b[0m \u001b[31m56.4 MB/s\u001b[0m eta \u001b[36m0:00:00\u001b[0m\n",
            "\u001b[?25hCollecting nvidia-cuda-cupti-cu12==12.1.105 (from torch>=1.10.0->torchmetrics)\n",
            "  Downloading nvidia_cuda_cupti_cu12-12.1.105-py3-none-manylinux1_x86_64.whl (14.1 MB)\n",
            "\u001b[2K     \u001b[90m━━━━━━━━━━━━━━━━━━━━━━━━━━━━━━━━━━━━━━━━\u001b[0m \u001b[32m14.1/14.1 MB\u001b[0m \u001b[31m67.6 MB/s\u001b[0m eta \u001b[36m0:00:00\u001b[0m\n",
            "\u001b[?25hCollecting nvidia-cudnn-cu12==8.9.2.26 (from torch>=1.10.0->torchmetrics)\n",
            "  Downloading nvidia_cudnn_cu12-8.9.2.26-py3-none-manylinux1_x86_64.whl (731.7 MB)\n",
            "\u001b[2K     \u001b[90m━━━━━━━━━━━━━━━━━━━━━━━━━━━━━━━━━━━━━━━━\u001b[0m \u001b[32m731.7/731.7 MB\u001b[0m \u001b[31m1.5 MB/s\u001b[0m eta \u001b[36m0:00:00\u001b[0m\n",
            "\u001b[?25hCollecting nvidia-cublas-cu12==12.1.3.1 (from torch>=1.10.0->torchmetrics)\n",
            "  Downloading nvidia_cublas_cu12-12.1.3.1-py3-none-manylinux1_x86_64.whl (410.6 MB)\n",
            "\u001b[2K     \u001b[90m━━━━━━━━━━━━━━━━━━━━━━━━━━━━━━━━━━━━━━━━\u001b[0m \u001b[32m410.6/410.6 MB\u001b[0m \u001b[31m1.9 MB/s\u001b[0m eta \u001b[36m0:00:00\u001b[0m\n",
            "\u001b[?25hCollecting nvidia-cufft-cu12==11.0.2.54 (from torch>=1.10.0->torchmetrics)\n",
            "  Downloading nvidia_cufft_cu12-11.0.2.54-py3-none-manylinux1_x86_64.whl (121.6 MB)\n",
            "\u001b[2K     \u001b[90m━━━━━━━━━━━━━━━━━━━━━━━━━━━━━━━━━━━━━━━━\u001b[0m \u001b[32m121.6/121.6 MB\u001b[0m \u001b[31m7.9 MB/s\u001b[0m eta \u001b[36m0:00:00\u001b[0m\n",
            "\u001b[?25hCollecting nvidia-curand-cu12==10.3.2.106 (from torch>=1.10.0->torchmetrics)\n",
            "  Downloading nvidia_curand_cu12-10.3.2.106-py3-none-manylinux1_x86_64.whl (56.5 MB)\n",
            "\u001b[2K     \u001b[90m━━━━━━━━━━━━━━━━━━━━━━━━━━━━━━━━━━━━━━━━\u001b[0m \u001b[32m56.5/56.5 MB\u001b[0m \u001b[31m11.2 MB/s\u001b[0m eta \u001b[36m0:00:00\u001b[0m\n",
            "\u001b[?25hCollecting nvidia-cusolver-cu12==11.4.5.107 (from torch>=1.10.0->torchmetrics)\n",
            "  Downloading nvidia_cusolver_cu12-11.4.5.107-py3-none-manylinux1_x86_64.whl (124.2 MB)\n",
            "\u001b[2K     \u001b[90m━━━━━━━━━━━━━━━━━━━━━━━━━━━━━━━━━━━━━━━━\u001b[0m \u001b[32m124.2/124.2 MB\u001b[0m \u001b[31m8.2 MB/s\u001b[0m eta \u001b[36m0:00:00\u001b[0m\n",
            "\u001b[?25hCollecting nvidia-cusparse-cu12==12.1.0.106 (from torch>=1.10.0->torchmetrics)\n",
            "  Downloading nvidia_cusparse_cu12-12.1.0.106-py3-none-manylinux1_x86_64.whl (196.0 MB)\n",
            "\u001b[2K     \u001b[90m━━━━━━━━━━━━━━━━━━━━━━━━━━━━━━━━━━━━━━━━\u001b[0m \u001b[32m196.0/196.0 MB\u001b[0m \u001b[31m6.7 MB/s\u001b[0m eta \u001b[36m0:00:00\u001b[0m\n",
            "\u001b[?25hCollecting nvidia-nccl-cu12==2.19.3 (from torch>=1.10.0->torchmetrics)\n",
            "  Downloading nvidia_nccl_cu12-2.19.3-py3-none-manylinux1_x86_64.whl (166.0 MB)\n",
            "\u001b[2K     \u001b[90m━━━━━━━━━━━━━━━━━━━━━━━━━━━━━━━━━━━━━━━━\u001b[0m \u001b[32m166.0/166.0 MB\u001b[0m \u001b[31m7.2 MB/s\u001b[0m eta \u001b[36m0:00:00\u001b[0m\n",
            "\u001b[?25hCollecting nvidia-nvtx-cu12==12.1.105 (from torch>=1.10.0->torchmetrics)\n",
            "  Downloading nvidia_nvtx_cu12-12.1.105-py3-none-manylinux1_x86_64.whl (99 kB)\n",
            "\u001b[2K     \u001b[90m━━━━━━━━━━━━━━━━━━━━━━━━━━━━━━━━━━━━━━━━\u001b[0m \u001b[32m99.1/99.1 kB\u001b[0m \u001b[31m13.8 MB/s\u001b[0m eta \u001b[36m0:00:00\u001b[0m\n",
            "\u001b[?25hRequirement already satisfied: triton==2.2.0 in /usr/local/lib/python3.10/dist-packages (from torch>=1.10.0->torchmetrics) (2.2.0)\n",
            "Collecting nvidia-nvjitlink-cu12 (from nvidia-cusolver-cu12==11.4.5.107->torch>=1.10.0->torchmetrics)\n",
            "  Downloading nvidia_nvjitlink_cu12-12.4.99-py3-none-manylinux2014_x86_64.whl (21.1 MB)\n",
            "\u001b[2K     \u001b[90m━━━━━━━━━━━━━━━━━━━━━━━━━━━━━━━━━━━━━━━━\u001b[0m \u001b[32m21.1/21.1 MB\u001b[0m \u001b[31m52.0 MB/s\u001b[0m eta \u001b[36m0:00:00\u001b[0m\n",
            "\u001b[?25hRequirement already satisfied: soupsieve>1.2 in /usr/local/lib/python3.10/dist-packages (from beautifulsoup4->gdown) (2.5)\n",
            "Requirement already satisfied: charset-normalizer<4,>=2 in /usr/local/lib/python3.10/dist-packages (from requests[socks]->gdown) (3.3.2)\n",
            "Requirement already satisfied: idna<4,>=2.5 in /usr/local/lib/python3.10/dist-packages (from requests[socks]->gdown) (3.6)\n",
            "Requirement already satisfied: urllib3<3,>=1.21.1 in /usr/local/lib/python3.10/dist-packages (from requests[socks]->gdown) (2.0.7)\n",
            "Requirement already satisfied: certifi>=2017.4.17 in /usr/local/lib/python3.10/dist-packages (from requests[socks]->gdown) (2024.2.2)\n",
            "Requirement already satisfied: PySocks!=1.5.7,>=1.5.6 in /usr/local/lib/python3.10/dist-packages (from requests[socks]->gdown) (1.7.1)\n",
            "Requirement already satisfied: MarkupSafe>=2.0 in /usr/local/lib/python3.10/dist-packages (from jinja2->torch>=1.10.0->torchmetrics) (2.1.5)\n",
            "Requirement already satisfied: mpmath>=0.19 in /usr/local/lib/python3.10/dist-packages (from sympy->torch>=1.10.0->torchmetrics) (1.3.0)\n",
            "Installing collected packages: nvidia-nvtx-cu12, nvidia-nvjitlink-cu12, nvidia-nccl-cu12, nvidia-curand-cu12, nvidia-cufft-cu12, nvidia-cuda-runtime-cu12, nvidia-cuda-nvrtc-cu12, nvidia-cuda-cupti-cu12, nvidia-cublas-cu12, lightning-utilities, nvidia-cusparse-cu12, nvidia-cudnn-cu12, nvidia-cusolver-cu12, torchmetrics\n",
            "Successfully installed lightning-utilities-0.11.2 nvidia-cublas-cu12-12.1.3.1 nvidia-cuda-cupti-cu12-12.1.105 nvidia-cuda-nvrtc-cu12-12.1.105 nvidia-cuda-runtime-cu12-12.1.105 nvidia-cudnn-cu12-8.9.2.26 nvidia-cufft-cu12-11.0.2.54 nvidia-curand-cu12-10.3.2.106 nvidia-cusolver-cu12-11.4.5.107 nvidia-cusparse-cu12-12.1.0.106 nvidia-nccl-cu12-2.19.3 nvidia-nvjitlink-cu12-12.4.99 nvidia-nvtx-cu12-12.1.105 torchmetrics-1.3.2\n",
            "Downloading...\n",
            "From: https://drive.google.com/uc?id=1zYfBlExr_LK-Ld8rmxCTqRU5RAOUVVfh\n",
            "To: /content/fashion_mnist_training.pt\n",
            "100% 3.93M/3.93M [00:00<00:00, 195MB/s]\n",
            "Downloading...\n",
            "From: https://drive.google.com/uc?id=1PJa_I3qG0P5whuARV_Se1_YUvHzR469R\n",
            "To: /content/fashion_mnist_validation.pt\n",
            "100% 786k/786k [00:00<00:00, 105MB/s]\n",
            "Downloading...\n",
            "From: https://drive.google.com/uc?id=1pC8-ummMGy1dPhHGPuNsms5_I7HpWgv2\n",
            "To: /content/fashion_mnist_test.pt\n",
            "100% 786k/786k [00:00<00:00, 158MB/s]\n"
          ]
        }
      ]
    },
    {
      "cell_type": "markdown",
      "source": [
        "### 2. Import classes and functions we will be using"
      ],
      "metadata": {
        "id": "Ec72Ga6812RP"
      }
    },
    {
      "cell_type": "code",
      "execution_count": null,
      "metadata": {
        "id": "T9VpHD-DgtpQ"
      },
      "outputs": [],
      "source": [
        "import math\n",
        "import os\n",
        "import random\n",
        "from typing import Any, Callable, Optional, Tuple\n",
        "\n",
        "import numpy as np\n",
        "import matplotlib.pyplot as plt\n",
        "import seaborn as sns\n",
        "import pandas as pd\n",
        "from PIL import Image\n",
        "from tqdm import tqdm\n",
        "\n",
        "import torch\n",
        "from torch import nn\n",
        "import torch.nn.functional as F\n",
        "from torch.optim import SGD\n",
        "from torch.optim.lr_scheduler import LinearLR\n",
        "from torch.utils.data import DataLoader\n",
        "from torchvision.datasets import VisionDataset\n",
        "from torchvision.transforms import Compose, Lambda, ToTensor\n",
        "from torchvision.models.resnet import ResNet, BasicBlock\n",
        "from torchmetrics.functional.classification import multiclass_confusion_matrix"
      ]
    },
    {
      "cell_type": "markdown",
      "source": [
        "### 3. Check which PyTorch version we are running and confirm that we are in a GPU runtime.\n",
        "If this output shows that you are not in a GPU runtime, go to \"Runtime\" in the top-left menu bar -> \"Change runtime type\" -> set \"Hardware Accelerator: GPU\"."
      ],
      "metadata": {
        "id": "f5X2STV32RqW"
      }
    },
    {
      "cell_type": "code",
      "source": [
        "print(f\"Running PyTorch version: {torch.__version__}\")\n",
        "print(f\"CUDA available: {torch.cuda.is_available()}\")\n",
        "!nvidia-smi"
      ],
      "metadata": {
        "id": "mPccgagdC5hU",
        "colab": {
          "base_uri": "https://localhost:8080/"
        },
        "outputId": "c0beb756-d66c-482a-801c-5b5317c30b96"
      },
      "execution_count": null,
      "outputs": [
        {
          "output_type": "stream",
          "name": "stdout",
          "text": [
            "Running PyTorch version: 2.2.1+cu121\n",
            "CUDA available: True\n",
            "Tue Apr  2 10:31:43 2024       \n",
            "+---------------------------------------------------------------------------------------+\n",
            "| NVIDIA-SMI 535.104.05             Driver Version: 535.104.05   CUDA Version: 12.2     |\n",
            "|-----------------------------------------+----------------------+----------------------+\n",
            "| GPU  Name                 Persistence-M | Bus-Id        Disp.A | Volatile Uncorr. ECC |\n",
            "| Fan  Temp   Perf          Pwr:Usage/Cap |         Memory-Usage | GPU-Util  Compute M. |\n",
            "|                                         |                      |               MIG M. |\n",
            "|=========================================+======================+======================|\n",
            "|   0  Tesla T4                       Off | 00000000:00:04.0 Off |                    0 |\n",
            "| N/A   44C    P8               9W /  70W |      3MiB / 15360MiB |      0%      Default |\n",
            "|                                         |                      |                  N/A |\n",
            "+-----------------------------------------+----------------------+----------------------+\n",
            "                                                                                         \n",
            "+---------------------------------------------------------------------------------------+\n",
            "| Processes:                                                                            |\n",
            "|  GPU   GI   CI        PID   Type   Process name                            GPU Memory |\n",
            "|        ID   ID                                                             Usage      |\n",
            "|=======================================================================================|\n",
            "|  No running processes found                                                           |\n",
            "+---------------------------------------------------------------------------------------+\n"
          ]
        }
      ]
    },
    {
      "cell_type": "markdown",
      "source": [
        "### 4. Make things (more) reproducible by setting random seeds\n",
        "\n",
        "See here for details: https://pytorch.org/docs/stable/notes/randomness.html"
      ],
      "metadata": {
        "id": "48pQqaEu2rl_"
      }
    },
    {
      "cell_type": "code",
      "source": [
        "seed = 42\n",
        "random.seed(seed)\n",
        "np.random.seed(seed)\n",
        "torch.manual_seed(seed)\n",
        "torch.cuda.manual_seed_all(seed)"
      ],
      "metadata": {
        "id": "nl_WgwsJykDK"
      },
      "execution_count": null,
      "outputs": []
    },
    {
      "cell_type": "markdown",
      "source": [
        "### 5. Define our custom IDS FashionMNIST PyTorch dataset\n",
        "\n",
        "Our model inherits, i.e. is a specific kind of, `VisionDataset` in torchvision.\\\n",
        "This means it has all features defined in `VisionDataset`, unless they are explicitly overridden here, \\\n",
        "plus any additional functionality that may be defined below. You can read more about `VisionDataset` here: https://pytorch.org/vision/main/generated/torchvision.datasets.VisionDataset.html."
      ],
      "metadata": {
        "id": "d9FscidJ266u"
      }
    },
    {
      "cell_type": "code",
      "source": [
        "class IDSFashionMnistDataset(VisionDataset):\n",
        "    \"\"\"\n",
        "    FashionMNIST dataset for the IDS course which loads custom data files from disk\n",
        "    \"\"\"\n",
        "\n",
        "    classes = [\n",
        "        \"T-shirt/top\", \"Trouser\", \"Pullover\", \"Dress\", \"Coat\",\n",
        "        \"Sandal\", \"Shirt\", \"Sneaker\", \"Bag\", \"Ankle boot\"\n",
        "    ]\n",
        "\n",
        "    def __init__(\n",
        "        self,\n",
        "        root: str,\n",
        "        split: str = \"training\",\n",
        "        transform: Optional[Callable] = None,\n",
        "        target_transform: Optional[Callable] = None,\n",
        "    ) -> None:\n",
        "        super().__init__(root, transform=transform, target_transform=target_transform)\n",
        "\n",
        "        if not split in [\"training\", \"validation\", \"test\"]:\n",
        "            raise ValueError(\"Split should be 'training', 'validation', or 'test'.\")\n",
        "\n",
        "        self.split = split\n",
        "        self.root = root\n",
        "\n",
        "        self.data, self.targets = self._load_data()\n",
        "\n",
        "    def _load_data(self):\n",
        "        data = torch.load(os.path.join(self.root, f\"fashion_mnist_{self.split}.pt\"))\n",
        "        images = data[:, :-1].reshape(-1, 28, 28)  # 28x28 resolution\n",
        "        labels = data[:, -1]\n",
        "        return images, labels\n",
        "\n",
        "    def __getitem__(self, index: int) -> Tuple[Any, Any]:\n",
        "        \"\"\"\n",
        "        Args:\n",
        "            index (int): Index\n",
        "\n",
        "        Returns:\n",
        "            tuple: (image, target) where target is index of the target class.\n",
        "        \"\"\"\n",
        "        img, target = self.data[index], int(self.targets[index])\n",
        "\n",
        "        # doing this so that it is consistent with all other datasets\n",
        "        # to return a PIL Image\n",
        "        img = Image.fromarray(img.numpy(), mode=\"L\")\n",
        "\n",
        "        if self.transform is not None:\n",
        "            img = self.transform(img)\n",
        "\n",
        "        if self.target_transform is not None:\n",
        "            target = self.target_transform(target)\n",
        "\n",
        "        return img, target\n",
        "\n",
        "    def __len__(self):\n",
        "        return len(self.data)"
      ],
      "metadata": {
        "id": "rQRFvmlVrXyb"
      },
      "execution_count": null,
      "outputs": []
    },
    {
      "cell_type": "markdown",
      "source": [
        "### 6. Define our custom ResNet-18 model for FashionMNIST\n",
        "The original ResNet-18 uses 3-channel (RGB) inputs and has 1000 output classes based on ImageNet-1K.\n",
        "\n",
        "https://pytorch.org/vision/main/models/generated/torchvision.models.resnet18.html\n",
        "\n",
        "We instead use single-channel inputs (Grayscale) and 10 output classes according to FashionMNIST."
      ],
      "metadata": {
        "id": "bYZm4f-G3bJb"
      }
    },
    {
      "cell_type": "code",
      "source": [
        "class FashionMnistResNet18(ResNet):\n",
        "    \"\"\"\n",
        "    Custom ResNet-18 model which uses 1 input channel (grayscale) and has 10 output classes\n",
        "    \"\"\"\n",
        "    def __init__(self):\n",
        "        super().__init__(BasicBlock, [2,2,2,2,2], num_classes=10)\n",
        "        self.conv1 = nn.Conv2d(1, 64,\n",
        "          kernel_size=(7, 7),\n",
        "          stride=(2, 2),\n",
        "          padding=(3, 3),\n",
        "          bias=False\n",
        "        )"
      ],
      "metadata": {
        "id": "dOKZ40RW31jy"
      },
      "execution_count": null,
      "outputs": []
    },
    {
      "cell_type": "markdown",
      "source": [
        "### 7. Load our custom FashionMNIST data\n",
        "\n",
        "Here, we load our data using the `IDSFashionMnistDataset` class defined above. We also make use of the functionality in torchvision's `VisionDataset`, which `IDSFashionMnistDataset` inherits from, to set the transformations we want to apply when retrieving examples from our dataset. We use the `transform` keyword argument for this and compose our transformations using torchvision's `Compose` (https://pytorch.org/vision/main/generated/torchvision.transforms.Compose.html). In our base setting, the only transformation we apply is `ToTensor`, which converts our `PIL.Image` inputs into PyTorch tensors."
      ],
      "metadata": {
        "id": "JtzPBiiq4RnD"
      }
    },
    {
      "cell_type": "code",
      "source": [
        "# Create base transformation for our dataset\n",
        "# TODO: how can these be modified to randomly flip examples?\n",
        "'''\n",
        "MY WORK\n",
        "'''\n",
        "import torchvision.transforms as transforms\n",
        "random_flip = transforms.RandomHorizontalFlip()\n",
        "\n",
        "base_transform = Compose([\n",
        "    ToTensor(),\n",
        "    random_flip\n",
        "])\n",
        "\n",
        "# Load datasets\n",
        "train_dataset = IDSFashionMnistDataset(\".\", \"training\", transform=base_transform)\n",
        "validation_dataset = IDSFashionMnistDataset(\".\", \"validation\", transform=base_transform)\n",
        "test_dataset = IDSFashionMnistDataset(\".\", \"test\", transform=base_transform)\n",
        "\n",
        "# Check the sizes of our datasets\n",
        "print(f\"Training dataset length = {len(train_dataset)}\")\n",
        "print(f\"Validation dataset length = {len(validation_dataset)}\")\n",
        "print(f\"Test dataset length = {len(test_dataset)}\")"
      ],
      "metadata": {
        "id": "fLWIwbs1lKtT",
        "colab": {
          "base_uri": "https://localhost:8080/"
        },
        "outputId": "143b41e3-62f0-4e3e-87f5-59eed05240c6"
      },
      "execution_count": null,
      "outputs": [
        {
          "output_type": "stream",
          "name": "stdout",
          "text": [
            "Training dataset length = 5000\n",
            "Validation dataset length = 1000\n",
            "Test dataset length = 1000\n"
          ]
        }
      ]
    },
    {
      "cell_type": "markdown",
      "source": [
        "### 8. Implement our evaluation function and training loop\n",
        "\n",
        "Below, we provide some rudimentary functionality for training and evaluation,\\\n",
        "as well as metric storing and logging, for our experiments."
      ],
      "metadata": {
        "id": "HeQRTMvk5i52"
      }
    },
    {
      "cell_type": "code",
      "source": [
        "def log_metrics(metrics: dict, step: Optional[int] = None):\n",
        "    \"\"\"\n",
        "    Log metrics stored in a dictionary\n",
        "    \"\"\"\n",
        "\n",
        "    # During training, it can be useful to also log the current step\n",
        "    if step is not None:\n",
        "        print(f\"\\nMetrics step {step}:\")\n",
        "\n",
        "    for k, v in metrics.items():\n",
        "        # We ignore the confusion matrix when logging metrics\n",
        "        if not k.endswith(\"conf_matrix\"):\n",
        "            print(f\"  {k}: {v}\")\n",
        "\n",
        "def evaluate(model, eval_dataloader, prefix=\"eval\"):\n",
        "    \"\"\"\n",
        "    Evaluation function that computes the loss, accuracy, and confusion matrix for the dataset\n",
        "    passed via the `eval_dataloader` argument\n",
        "    \"\"\"\n",
        "\n",
        "    # Define loss function\n",
        "    criterion = nn.CrossEntropyLoss()\n",
        "\n",
        "    # Move model to GPU\n",
        "    model.cuda()\n",
        "\n",
        "    # Set model to evaluation mode (e.g. to disable dropout)\n",
        "    model.eval()\n",
        "\n",
        "    eval_loss = 0\n",
        "    y_pred = None\n",
        "    y_true = None\n",
        "    num_classes = None\n",
        "\n",
        "    for batch_idx, batch in enumerate(tqdm(eval_dataloader, desc=f\"Evaluating\")):\n",
        "        # Loop over batches in dataloader\n",
        "        '''\n",
        "        ISN'T IT ALREADY DOING THIS?\n",
        "        '''\n",
        "\n",
        "        # Move batch to GPU\n",
        "        inputs, labels = batch\n",
        "        inputs = inputs.cuda()\n",
        "        labels = labels.cuda()\n",
        "\n",
        "        # Use no_grad mode to disable gradient computation\n",
        "        with torch.no_grad():\n",
        "            # Get model outputs\n",
        "            outputs = model(inputs)\n",
        "\n",
        "        # Compute loss\n",
        "        loss = criterion(outputs, labels)\n",
        "        eval_loss += loss.detach().cpu().item()\n",
        "\n",
        "        if num_classes is None:\n",
        "            num_classes = len(outputs[0])\n",
        "\n",
        "        # Get class predictions\n",
        "        preds = torch.argmax(outputs, dim=-1)\n",
        "\n",
        "        # Accumulate predictions and true classes over batches\n",
        "        y_pred = torch.cat([y_pred, preds]) if y_pred is not None else preds\n",
        "        y_true = torch.cat([y_true, labels]) if y_true is not None else labels\n",
        "\n",
        "\n",
        "    # Move predictions and true classes back to CPU\n",
        "    y_pred = y_pred.detach().cpu()\n",
        "    y_true = y_true.detach().cpu()\n",
        "\n",
        "    # Compute metrics\n",
        "    eval_loss /= len(eval_dataloader)\n",
        "    eval_acc = (y_pred == y_true).sum() / len(y_true)\n",
        "    eval_conf_matrix = multiclass_confusion_matrix(\n",
        "        y_pred, y_true, num_classes=num_classes\n",
        "    )\n",
        "\n",
        "    # Store metrics in a dictionary\n",
        "    metrics = {\n",
        "        f\"{prefix}_loss\": eval_loss,\n",
        "        f\"{prefix}_accuracy\": eval_acc.item(),\n",
        "        f\"{prefix}_conf_matrix\": eval_conf_matrix.numpy()\n",
        "    }\n",
        "\n",
        "    return metrics\n",
        "\n",
        "\n",
        "def save_best_model(model: nn.Module):\n",
        "  \"\"\"\n",
        "  Simple function that saves the weights of the specified model to disk.\n",
        "  We use this to keep track of the best model (based on validation loss).\n",
        "  \"\"\"\n",
        "  output_path = \"best_model.pt\"\n",
        "  torch.save(model.state_dict(), output_path)\n",
        "  print(f\"Saved new best model to {output_path}\\n\")\n",
        "\n",
        "\n",
        "def load_best_model(model: nn.Module, model_path: str = \"best_model.pt\"):\n",
        "  \"\"\"\n",
        "  Simple function that loads model weights stored at `model_path` into the\n",
        "  passed model of type `nn.Module`. We use this to load our best model checkpoint.\n",
        "  \"\"\"\n",
        "  model.load_state_dict(torch.load(model_path))\n",
        "  model.eval()\n",
        "  print(f\"Loaded best {model.__class__.__name__} model from {model_path}\\n\")\n",
        "  return model\n",
        "\n",
        "\n",
        "def train(\n",
        "  model: nn.Module,\n",
        "  train_dataloader: DataLoader,\n",
        "  eval_dataloader: DataLoader,\n",
        "  num_epochs: int = 20,\n",
        "  lr: float = 0.1,\n",
        "  eval_steps: int = 100\n",
        "):\n",
        "    \"\"\"\n",
        "    Training loop\n",
        "    \"\"\"\n",
        "\n",
        "    # Create SGD optimizer with specified learning rate and fixed momentum\n",
        "    optimizer = SGD(model.parameters(), lr=lr, momentum=0.9)\n",
        "\n",
        "    # Create linear learning rate decay schedule\n",
        "    scheduler = LinearLR(\n",
        "        optimizer,\n",
        "        start_factor=1.0,\n",
        "        end_factor=1e-6,\n",
        "        total_iters=len(train_dataloader) * num_epochs\n",
        "    )\n",
        "\n",
        "    # Define loss function\n",
        "    criterion = nn.CrossEntropyLoss()\n",
        "\n",
        "    # Move model to GPU\n",
        "    model.cuda()\n",
        "\n",
        "    total_loss = 0\n",
        "    total_eval_loss = 0\n",
        "    global_step = 0\n",
        "    global_eval_step = 0\n",
        "    best_eval_loss = float(\"inf\")\n",
        "\n",
        "    # Store our initial model\n",
        "    save_best_model(model)\n",
        "\n",
        "    # Create dictionary to store metrics throughout training\n",
        "    metrics_dict = {}\n",
        "\n",
        "    print(\"Starting model training\")\n",
        "\n",
        "    for epoch_idx in range(num_epochs):\n",
        "        # Epoch loop (one epoch is one pass over the full training dataset)\n",
        "\n",
        "        for batch_idx, batch in enumerate(tqdm(train_dataloader, desc=f\"Epoch {epoch_idx+1}\")):\n",
        "            # Loop over batches in training dataset\n",
        "\n",
        "            # Set model to training mode\n",
        "            model.train()\n",
        "\n",
        "            global_step += 1\n",
        "\n",
        "            # Move batch to GPU\n",
        "            inputs, labels = batch\n",
        "            inputs = inputs.cuda()\n",
        "            labels = labels.cuda()\n",
        "\n",
        "            # Get model outputs\n",
        "            outputs = model(inputs)\n",
        "\n",
        "            # Compute loss\n",
        "            loss = criterion(outputs, labels)\n",
        "            total_loss += loss.detach().cpu().item()\n",
        "\n",
        "            # Evaluation loop\n",
        "            if global_step % eval_steps == 0:\n",
        "                global_eval_step += 1\n",
        "                metrics = {\n",
        "                    \"mean_train_loss\": total_loss / global_step,\n",
        "                    \"learning_rate\": scheduler.get_last_lr()[0]\n",
        "                }\n",
        "\n",
        "                # Evaluate on validation and training datasets\n",
        "                metrics.update(evaluate(model, eval_dataloader, prefix=\"eval\"))\n",
        "                metrics.update(evaluate(model, train_dataloader, prefix=\"train\"))\n",
        "\n",
        "                # Update and log metrics\n",
        "                total_eval_loss += metrics[\"eval_loss\"]\n",
        "                metrics[\"mean_eval_loss\"] = total_eval_loss / global_eval_step\n",
        "                log_metrics(metrics, step=global_step)\n",
        "                metrics_dict[global_step] = metrics\n",
        "\n",
        "                # Check if our validation loss has decreased, and if so,\n",
        "                # update our best model checkpoint\n",
        "                if metrics[\"eval_loss\"] <= best_eval_loss:\n",
        "                  best_eval_loss = metrics[\"eval_loss\"]\n",
        "                  save_best_model(model)\n",
        "\n",
        "            # Compute gradients\n",
        "            loss.backward()\n",
        "\n",
        "            # Perform update step\n",
        "            optimizer.step()\n",
        "\n",
        "            # Reduce learning rate for stability\n",
        "            scheduler.step()\n",
        "\n",
        "            # Set gradients to zero\n",
        "            model.zero_grad()\n",
        "\n",
        "    return metrics_dict"
      ],
      "metadata": {
        "id": "2mqMKk35ip9f"
      },
      "execution_count": null,
      "outputs": []
    },
    {
      "cell_type": "markdown",
      "source": [
        "### 9. Define hyperparameters, create dataloaders, instantiate model, and run training/evaluation procedure\n",
        "\n",
        "Here, we set our hyper-parameters for the dataloader (batch size) and the training loop \\\n",
        "(number of epochs, learning rate, and evaluation interval in steps).\n",
        "\n",
        "We only use very basic data loading functionality. More information on available features can be found here https://pytorch.org/docs/stable/data.html#torch.utils.data.DataLoader."
      ],
      "metadata": {
        "id": "v2h72BWltFaY"
      }
    },
    {
      "cell_type": "code",
      "source": [
        "# TODO: set your hyperparameters\n",
        "bs = 256\n",
        "num_epochs = 100\n",
        "lr = 0.1\n",
        "eval_steps = 100\n",
        "\n",
        "# Create dataloaders\n",
        "train_dataloader = DataLoader(train_dataset, batch_size=bs, shuffle=True)\n",
        "validation_dataloader = DataLoader(validation_dataset, batch_size=bs, shuffle=False)\n",
        "test_dataloader = DataLoader(test_dataset, batch_size=bs, shuffle=False)\n",
        "\n",
        "# Instantiate a new model\n",
        "model = FashionMnistResNet18()\n",
        "\n",
        "# Train model and save training and evaluation metrics\n",
        "metrics_dict = train(\n",
        "    model, train_dataloader, validation_dataloader, num_epochs=num_epochs, lr=lr, eval_steps=eval_steps\n",
        ")"
      ],
      "metadata": {
        "id": "EBGaR6FmsWtF",
        "colab": {
          "base_uri": "https://localhost:8080/"
        },
        "outputId": "2c039ffb-1749-48ea-c4df-acb4804aae4a"
      },
      "execution_count": null,
      "outputs": [
        {
          "output_type": "stream",
          "name": "stdout",
          "text": [
            "Saved new best model to best_model.pt\n",
            "\n",
            "Starting model training\n"
          ]
        },
        {
          "output_type": "stream",
          "name": "stderr",
          "text": [
            "Epoch 1: 100%|██████████| 20/20 [00:02<00:00,  9.32it/s]\n",
            "Epoch 2: 100%|██████████| 20/20 [00:01<00:00, 15.29it/s]\n",
            "Epoch 3: 100%|██████████| 20/20 [00:01<00:00, 15.44it/s]\n",
            "Epoch 4: 100%|██████████| 20/20 [00:01<00:00, 14.66it/s]\n",
            "Epoch 5:  90%|█████████ | 18/20 [00:01<00:00, 14.19it/s]\n",
            "Evaluating:   0%|          | 0/4 [00:00<?, ?it/s]\u001b[A\n",
            "Evaluating:  50%|█████     | 2/4 [00:00<00:00, 12.82it/s]\u001b[A\n",
            "Evaluating: 100%|██████████| 4/4 [00:00<00:00, 14.98it/s]\n",
            "\n",
            "Evaluating:   0%|          | 0/20 [00:00<?, ?it/s]\u001b[A\n",
            "Evaluating:  15%|█▌        | 3/20 [00:00<00:00, 21.33it/s]\u001b[A\n",
            "Evaluating:  30%|███       | 6/20 [00:00<00:00, 21.58it/s]\u001b[A\n",
            "Evaluating:  45%|████▌     | 9/20 [00:00<00:00, 21.88it/s]\u001b[A\n",
            "Evaluating:  60%|██████    | 12/20 [00:00<00:00, 21.15it/s]\u001b[A\n",
            "Evaluating:  75%|███████▌  | 15/20 [00:00<00:00, 21.33it/s]\u001b[A\n",
            "Evaluating: 100%|██████████| 20/20 [00:00<00:00, 21.68it/s]\n",
            "Epoch 5: 100%|██████████| 20/20 [00:02<00:00,  7.04it/s]\n"
          ]
        },
        {
          "output_type": "stream",
          "name": "stdout",
          "text": [
            "\n",
            "Metrics step 100:\n",
            "  mean_train_loss: 0.817957621216774\n",
            "  learning_rate: 0.09505000494999999\n",
            "  eval_loss: 0.5853217244148254\n",
            "  eval_accuracy: 0.7900000214576721\n",
            "  train_loss: 0.49934637248516084\n",
            "  train_accuracy: 0.8176000118255615\n",
            "  mean_eval_loss: 0.5853217244148254\n",
            "Saved new best model to best_model.pt\n",
            "\n"
          ]
        },
        {
          "output_type": "stream",
          "name": "stderr",
          "text": [
            "Epoch 6: 100%|██████████| 20/20 [00:01<00:00, 15.39it/s]\n",
            "Epoch 7: 100%|██████████| 20/20 [00:01<00:00, 15.26it/s]\n",
            "Epoch 8: 100%|██████████| 20/20 [00:01<00:00, 15.27it/s]\n",
            "Epoch 9: 100%|██████████| 20/20 [00:01<00:00, 15.12it/s]\n",
            "Epoch 10:  90%|█████████ | 18/20 [00:01<00:00, 15.04it/s]\n",
            "Evaluating:   0%|          | 0/4 [00:00<?, ?it/s]\u001b[A\n",
            "Evaluating:  50%|█████     | 2/4 [00:00<00:00, 18.90it/s]\u001b[A\n",
            "Evaluating: 100%|██████████| 4/4 [00:00<00:00, 18.63it/s]\n",
            "\n",
            "Evaluating:   0%|          | 0/20 [00:00<?, ?it/s]\u001b[A\n",
            "Evaluating:  15%|█▌        | 3/20 [00:00<00:00, 21.03it/s]\u001b[A\n",
            "Evaluating:  30%|███       | 6/20 [00:00<00:00, 21.26it/s]\u001b[A\n",
            "Evaluating:  45%|████▌     | 9/20 [00:00<00:00, 21.40it/s]\u001b[A\n",
            "Evaluating:  60%|██████    | 12/20 [00:00<00:00, 21.69it/s]\u001b[A\n",
            "Evaluating:  75%|███████▌  | 15/20 [00:00<00:00, 21.82it/s]\u001b[A\n",
            "Evaluating: 100%|██████████| 20/20 [00:00<00:00, 21.60it/s]\n",
            "Epoch 10: 100%|██████████| 20/20 [00:02<00:00,  7.75it/s]\n"
          ]
        },
        {
          "output_type": "stream",
          "name": "stdout",
          "text": [
            "\n",
            "Metrics step 200:\n",
            "  mean_train_loss: 0.6067972983419895\n",
            "  learning_rate: 0.09005000994999993\n",
            "  eval_loss: 0.4526776969432831\n",
            "  eval_accuracy: 0.8399999737739563\n",
            "  train_loss: 0.3105908311903477\n",
            "  train_accuracy: 0.8841999769210815\n",
            "  mean_eval_loss: 0.5189997106790543\n",
            "Saved new best model to best_model.pt\n",
            "\n"
          ]
        },
        {
          "output_type": "stream",
          "name": "stderr",
          "text": [
            "Epoch 11: 100%|██████████| 20/20 [00:01<00:00, 14.34it/s]\n",
            "Epoch 12: 100%|██████████| 20/20 [00:01<00:00, 13.73it/s]\n",
            "Epoch 13: 100%|██████████| 20/20 [00:01<00:00, 15.11it/s]\n",
            "Epoch 14: 100%|██████████| 20/20 [00:01<00:00, 15.10it/s]\n",
            "Epoch 15:  90%|█████████ | 18/20 [00:01<00:00, 14.83it/s]\n",
            "Evaluating:   0%|          | 0/4 [00:00<?, ?it/s]\u001b[A\n",
            "Evaluating:  50%|█████     | 2/4 [00:00<00:00, 19.58it/s]\u001b[A\n",
            "Evaluating: 100%|██████████| 4/4 [00:00<00:00, 17.30it/s]\n",
            "\n",
            "Evaluating:   0%|          | 0/20 [00:00<?, ?it/s]\u001b[A\n",
            "Evaluating:   5%|▌         | 1/20 [00:00<00:03,  5.59it/s]\u001b[A\n",
            "Evaluating:  15%|█▌        | 3/20 [00:00<00:01, 10.28it/s]\u001b[A\n",
            "Evaluating:  25%|██▌       | 5/20 [00:00<00:01, 13.69it/s]\u001b[A\n",
            "Evaluating:  35%|███▌      | 7/20 [00:00<00:00, 15.77it/s]\u001b[A\n",
            "Evaluating:  50%|█████     | 10/20 [00:00<00:00, 17.97it/s]\u001b[A\n",
            "Evaluating:  65%|██████▌   | 13/20 [00:00<00:00, 19.27it/s]\u001b[A\n",
            "Evaluating:  75%|███████▌  | 15/20 [00:01<00:00, 11.97it/s]\u001b[A\n",
            "Evaluating: 100%|██████████| 20/20 [00:01<00:00, 14.84it/s]\n",
            "Epoch 15: 100%|██████████| 20/20 [00:02<00:00,  6.76it/s]\n"
          ]
        },
        {
          "output_type": "stream",
          "name": "stdout",
          "text": [
            "\n",
            "Metrics step 300:\n",
            "  mean_train_loss: 0.4929655644794305\n",
            "  learning_rate: 0.08505001494999989\n",
            "  eval_loss: 0.4564211815595627\n",
            "  eval_accuracy: 0.8690000176429749\n",
            "  train_loss: 0.19824645295739174\n",
            "  train_accuracy: 0.9297999739646912\n",
            "  mean_eval_loss: 0.49814020097255707\n"
          ]
        },
        {
          "output_type": "stream",
          "name": "stderr",
          "text": [
            "Epoch 16: 100%|██████████| 20/20 [00:01<00:00, 14.25it/s]\n",
            "Epoch 17: 100%|██████████| 20/20 [00:01<00:00, 13.45it/s]\n",
            "Epoch 18: 100%|██████████| 20/20 [00:01<00:00, 14.51it/s]\n",
            "Epoch 19: 100%|██████████| 20/20 [00:01<00:00, 13.51it/s]\n",
            "Epoch 20:  90%|█████████ | 18/20 [00:01<00:00, 14.70it/s]\n",
            "Evaluating:   0%|          | 0/4 [00:00<?, ?it/s]\u001b[A\n",
            "Evaluating: 100%|██████████| 4/4 [00:00<00:00, 21.21it/s]\n",
            "\n",
            "Evaluating:   0%|          | 0/20 [00:00<?, ?it/s]\u001b[A\n",
            "Evaluating:  15%|█▌        | 3/20 [00:00<00:00, 22.41it/s]\u001b[A\n",
            "Evaluating:  30%|███       | 6/20 [00:00<00:00, 22.19it/s]\u001b[A\n",
            "Evaluating:  45%|████▌     | 9/20 [00:00<00:00, 21.72it/s]\u001b[A\n",
            "Evaluating:  60%|██████    | 12/20 [00:00<00:00, 21.15it/s]\u001b[A\n",
            "Evaluating:  75%|███████▌  | 15/20 [00:00<00:00, 21.52it/s]\u001b[A\n",
            "Evaluating: 100%|██████████| 20/20 [00:00<00:00, 21.96it/s]\n",
            "Epoch 20: 100%|██████████| 20/20 [00:02<00:00,  8.11it/s]\n"
          ]
        },
        {
          "output_type": "stream",
          "name": "stdout",
          "text": [
            "\n",
            "Metrics step 400:\n",
            "  mean_train_loss: 0.4188504304550588\n",
            "  learning_rate: 0.08005001994999977\n",
            "  eval_loss: 0.5459248200058937\n",
            "  eval_accuracy: 0.8450000286102295\n",
            "  train_loss: 0.2089999496936798\n",
            "  train_accuracy: 0.9261999726295471\n",
            "  mean_eval_loss: 0.5100863557308912\n"
          ]
        },
        {
          "output_type": "stream",
          "name": "stderr",
          "text": [
            "Epoch 21: 100%|██████████| 20/20 [00:01<00:00, 14.84it/s]\n",
            "Epoch 22: 100%|██████████| 20/20 [00:01<00:00, 14.57it/s]\n",
            "Epoch 23: 100%|██████████| 20/20 [00:01<00:00, 14.85it/s]\n",
            "Epoch 24: 100%|██████████| 20/20 [00:01<00:00, 14.85it/s]\n",
            "Epoch 25:  90%|█████████ | 18/20 [00:01<00:00, 14.39it/s]\n",
            "Evaluating:   0%|          | 0/4 [00:00<?, ?it/s]\u001b[A\n",
            "Evaluating: 100%|██████████| 4/4 [00:00<00:00, 22.00it/s]\n",
            "\n",
            "Evaluating:   0%|          | 0/20 [00:00<?, ?it/s]\u001b[A\n",
            "Evaluating:  10%|█         | 2/20 [00:00<00:00, 18.99it/s]\u001b[A\n",
            "Evaluating:  25%|██▌       | 5/20 [00:00<00:00, 18.72it/s]\u001b[A\n",
            "Evaluating:  35%|███▌      | 7/20 [00:00<00:00, 15.80it/s]\u001b[A\n",
            "Evaluating:  45%|████▌     | 9/20 [00:00<00:00, 15.55it/s]\u001b[A\n",
            "Evaluating:  55%|█████▌    | 11/20 [00:00<00:00, 15.57it/s]\u001b[A\n",
            "Evaluating:  65%|██████▌   | 13/20 [00:00<00:00, 15.40it/s]\u001b[A\n",
            "Evaluating:  75%|███████▌  | 15/20 [00:00<00:00, 15.11it/s]\u001b[A\n",
            "Evaluating:  85%|████████▌ | 17/20 [00:01<00:00, 15.14it/s]\u001b[A\n",
            "Evaluating: 100%|██████████| 20/20 [00:01<00:00, 15.92it/s]\n",
            "Epoch 25: 100%|██████████| 20/20 [00:02<00:00,  7.07it/s]\n"
          ]
        },
        {
          "output_type": "stream",
          "name": "stdout",
          "text": [
            "\n",
            "Metrics step 500:\n",
            "  mean_train_loss: 0.361692712508142\n",
            "  learning_rate: 0.07505002494999956\n",
            "  eval_loss: 0.5424046292901039\n",
            "  eval_accuracy: 0.8479999899864197\n",
            "  train_loss: 0.09750993065536022\n",
            "  train_accuracy: 0.9656000137329102\n",
            "  mean_eval_loss: 0.5165500104427337\n"
          ]
        },
        {
          "output_type": "stream",
          "name": "stderr",
          "text": [
            "Epoch 26: 100%|██████████| 20/20 [00:01<00:00, 13.24it/s]\n",
            "Epoch 27: 100%|██████████| 20/20 [00:01<00:00, 14.65it/s]\n",
            "Epoch 28: 100%|██████████| 20/20 [00:01<00:00, 14.63it/s]\n",
            "Epoch 29: 100%|██████████| 20/20 [00:01<00:00, 14.62it/s]\n",
            "Epoch 30:  90%|█████████ | 18/20 [00:01<00:00, 14.33it/s]\n",
            "Evaluating:   0%|          | 0/4 [00:00<?, ?it/s]\u001b[A\n",
            "Evaluating: 100%|██████████| 4/4 [00:00<00:00, 21.54it/s]\n",
            "\n",
            "Evaluating:   0%|          | 0/20 [00:00<?, ?it/s]\u001b[A\n",
            "Evaluating:  15%|█▌        | 3/20 [00:00<00:00, 22.33it/s]\u001b[A\n",
            "Evaluating:  30%|███       | 6/20 [00:00<00:00, 22.16it/s]\u001b[A\n",
            "Evaluating:  45%|████▌     | 9/20 [00:00<00:00, 21.64it/s]\u001b[A\n",
            "Evaluating:  60%|██████    | 12/20 [00:00<00:00, 20.52it/s]\u001b[A\n",
            "Evaluating:  75%|███████▌  | 15/20 [00:00<00:00, 20.76it/s]\u001b[A\n",
            "Evaluating: 100%|██████████| 20/20 [00:00<00:00, 21.49it/s]\n",
            "Epoch 30: 100%|██████████| 20/20 [00:02<00:00,  7.96it/s]\n"
          ]
        },
        {
          "output_type": "stream",
          "name": "stdout",
          "text": [
            "\n",
            "Metrics step 600:\n",
            "  mean_train_loss: 0.3172307977452874\n",
            "  learning_rate: 0.07005002994999944\n",
            "  eval_loss: 0.7223052233457565\n",
            "  eval_accuracy: 0.8270000219345093\n",
            "  train_loss: 0.10029118470847606\n",
            "  train_accuracy: 0.9631999731063843\n",
            "  mean_eval_loss: 0.5508425459265709\n"
          ]
        },
        {
          "output_type": "stream",
          "name": "stderr",
          "text": [
            "Epoch 31: 100%|██████████| 20/20 [00:01<00:00, 14.45it/s]\n",
            "Epoch 32: 100%|██████████| 20/20 [00:01<00:00, 14.22it/s]\n",
            "Epoch 33: 100%|██████████| 20/20 [00:01<00:00, 13.56it/s]\n",
            "Epoch 34: 100%|██████████| 20/20 [00:01<00:00, 13.56it/s]\n",
            "Epoch 35:  90%|█████████ | 18/20 [00:01<00:00, 14.22it/s]\n",
            "Evaluating:   0%|          | 0/4 [00:00<?, ?it/s]\u001b[A\n",
            "Evaluating: 100%|██████████| 4/4 [00:00<00:00, 21.25it/s]\n",
            "\n",
            "Evaluating:   0%|          | 0/20 [00:00<?, ?it/s]\u001b[A\n",
            "Evaluating:  15%|█▌        | 3/20 [00:00<00:00, 22.16it/s]\u001b[A\n",
            "Evaluating:  30%|███       | 6/20 [00:00<00:00, 21.38it/s]\u001b[A\n",
            "Evaluating:  45%|████▌     | 9/20 [00:00<00:00, 20.91it/s]\u001b[A\n",
            "Evaluating:  60%|██████    | 12/20 [00:00<00:00, 20.92it/s]\u001b[A\n",
            "Evaluating:  75%|███████▌  | 15/20 [00:00<00:00, 20.94it/s]\u001b[A\n",
            "Evaluating: 100%|██████████| 20/20 [00:00<00:00, 21.49it/s]\n",
            "Epoch 35: 100%|██████████| 20/20 [00:02<00:00,  7.92it/s]\n"
          ]
        },
        {
          "output_type": "stream",
          "name": "stdout",
          "text": [
            "\n",
            "Metrics step 700:\n",
            "  mean_train_loss: 0.2838453733761396\n",
            "  learning_rate: 0.06505003494999935\n",
            "  eval_loss: 0.6352131143212318\n",
            "  eval_accuracy: 0.8659999966621399\n",
            "  train_loss: 0.07548909392207862\n",
            "  train_accuracy: 0.9733999967575073\n",
            "  mean_eval_loss: 0.5628954842686653\n"
          ]
        },
        {
          "output_type": "stream",
          "name": "stderr",
          "text": [
            "Epoch 36: 100%|██████████| 20/20 [00:01<00:00, 14.33it/s]\n",
            "Epoch 37: 100%|██████████| 20/20 [00:01<00:00, 14.35it/s]\n",
            "Epoch 38: 100%|██████████| 20/20 [00:01<00:00, 14.36it/s]\n",
            "Epoch 39: 100%|██████████| 20/20 [00:01<00:00, 14.27it/s]\n",
            "Epoch 40:  90%|█████████ | 18/20 [00:01<00:00, 13.61it/s]\n",
            "Evaluating:   0%|          | 0/4 [00:00<?, ?it/s]\u001b[A\n",
            "Evaluating:  50%|█████     | 2/4 [00:00<00:00, 16.34it/s]\u001b[A\n",
            "Evaluating: 100%|██████████| 4/4 [00:00<00:00, 16.06it/s]\n",
            "\n",
            "Evaluating:   0%|          | 0/20 [00:00<?, ?it/s]\u001b[A\n",
            "Evaluating:  10%|█         | 2/20 [00:00<00:01, 16.20it/s]\u001b[A\n",
            "Evaluating:  20%|██        | 4/20 [00:00<00:01, 14.95it/s]\u001b[A\n",
            "Evaluating:  30%|███       | 6/20 [00:00<00:00, 14.11it/s]\u001b[A\n",
            "Evaluating:  40%|████      | 8/20 [00:00<00:00, 14.35it/s]\u001b[A\n",
            "Evaluating:  50%|█████     | 10/20 [00:00<00:00, 13.85it/s]\u001b[A\n",
            "Evaluating:  60%|██████    | 12/20 [00:00<00:00, 13.25it/s]\u001b[A\n",
            "Evaluating:  70%|███████   | 14/20 [00:01<00:00, 13.67it/s]\u001b[A\n",
            "Evaluating:  85%|████████▌ | 17/20 [00:01<00:00, 16.13it/s]\u001b[A\n",
            "Evaluating: 100%|██████████| 20/20 [00:01<00:00, 15.78it/s]\n",
            "Epoch 40: 100%|██████████| 20/20 [00:02<00:00,  6.70it/s]\n"
          ]
        },
        {
          "output_type": "stream",
          "name": "stdout",
          "text": [
            "\n",
            "Metrics step 800:\n",
            "  mean_train_loss: 0.25460313395480627\n",
            "  learning_rate: 0.06005003994999934\n",
            "  eval_loss: 0.7249339520931244\n",
            "  eval_accuracy: 0.8500000238418579\n",
            "  train_loss: 0.05205311980098486\n",
            "  train_accuracy: 0.9811999797821045\n",
            "  mean_eval_loss: 0.5831502927467227\n"
          ]
        },
        {
          "output_type": "stream",
          "name": "stderr",
          "text": [
            "Epoch 41: 100%|██████████| 20/20 [00:01<00:00, 14.15it/s]\n",
            "Epoch 42: 100%|██████████| 20/20 [00:01<00:00, 14.18it/s]\n",
            "Epoch 43: 100%|██████████| 20/20 [00:01<00:00, 14.09it/s]\n",
            "Epoch 44: 100%|██████████| 20/20 [00:01<00:00, 14.15it/s]\n",
            "Epoch 45:  90%|█████████ | 18/20 [00:01<00:00, 13.83it/s]\n",
            "Evaluating:   0%|          | 0/4 [00:00<?, ?it/s]\u001b[A\n",
            "Evaluating: 100%|██████████| 4/4 [00:00<00:00, 21.24it/s]\n",
            "\n",
            "Evaluating:   0%|          | 0/20 [00:00<?, ?it/s]\u001b[A\n",
            "Evaluating:  15%|█▌        | 3/20 [00:00<00:00, 22.73it/s]\u001b[A\n",
            "Evaluating:  30%|███       | 6/20 [00:00<00:00, 21.92it/s]\u001b[A\n",
            "Evaluating:  45%|████▌     | 9/20 [00:00<00:00, 21.86it/s]\u001b[A\n",
            "Evaluating:  60%|██████    | 12/20 [00:00<00:00, 21.62it/s]\u001b[A\n",
            "Evaluating:  75%|███████▌  | 15/20 [00:00<00:00, 21.57it/s]\u001b[A\n",
            "Evaluating: 100%|██████████| 20/20 [00:00<00:00, 22.01it/s]\n",
            "Epoch 45: 100%|██████████| 20/20 [00:02<00:00,  7.86it/s]\n"
          ]
        },
        {
          "output_type": "stream",
          "name": "stdout",
          "text": [
            "\n",
            "Metrics step 900:\n",
            "  mean_train_loss: 0.22960300540758505\n",
            "  learning_rate: 0.055050044949999356\n",
            "  eval_loss: 0.8099561780691147\n",
            "  eval_accuracy: 0.8460000157356262\n",
            "  train_loss: 0.01837525104638189\n",
            "  train_accuracy: 0.9940000176429749\n",
            "  mean_eval_loss: 0.608350946671433\n"
          ]
        },
        {
          "output_type": "stream",
          "name": "stderr",
          "text": [
            "Epoch 46: 100%|██████████| 20/20 [00:01<00:00, 13.84it/s]\n",
            "Epoch 47: 100%|██████████| 20/20 [00:01<00:00, 13.32it/s]\n",
            "Epoch 48: 100%|██████████| 20/20 [00:01<00:00, 13.13it/s]\n",
            "Epoch 49: 100%|██████████| 20/20 [00:01<00:00, 13.88it/s]\n",
            "Epoch 50:  90%|█████████ | 18/20 [00:01<00:00, 13.38it/s]\n",
            "Evaluating:   0%|          | 0/4 [00:00<?, ?it/s]\u001b[A\n",
            "Evaluating: 100%|██████████| 4/4 [00:00<00:00, 22.40it/s]\n",
            "\n",
            "Evaluating:   0%|          | 0/20 [00:00<?, ?it/s]\u001b[A\n",
            "Evaluating:  15%|█▌        | 3/20 [00:00<00:00, 22.95it/s]\u001b[A\n",
            "Evaluating:  30%|███       | 6/20 [00:00<00:00, 21.69it/s]\u001b[A\n",
            "Evaluating:  45%|████▌     | 9/20 [00:00<00:00, 21.38it/s]\u001b[A\n",
            "Evaluating:  60%|██████    | 12/20 [00:00<00:00, 21.61it/s]\u001b[A\n",
            "Evaluating:  75%|███████▌  | 15/20 [00:00<00:00, 21.43it/s]\u001b[A\n",
            "Evaluating: 100%|██████████| 20/20 [00:00<00:00, 21.76it/s]\n",
            "Epoch 50: 100%|██████████| 20/20 [00:02<00:00,  7.79it/s]\n"
          ]
        },
        {
          "output_type": "stream",
          "name": "stdout",
          "text": [
            "\n",
            "Metrics step 1000:\n",
            "  mean_train_loss: 0.2081882309759967\n",
            "  learning_rate: 0.050050049949999446\n",
            "  eval_loss: 0.8237190693616867\n",
            "  eval_accuracy: 0.8529999852180481\n",
            "  train_loss: 0.005708173126913607\n",
            "  train_accuracy: 0.998199999332428\n",
            "  mean_eval_loss: 0.6298877589404583\n"
          ]
        },
        {
          "output_type": "stream",
          "name": "stderr",
          "text": [
            "Epoch 51: 100%|██████████| 20/20 [00:01<00:00, 13.67it/s]\n",
            "Epoch 52: 100%|██████████| 20/20 [00:01<00:00, 13.81it/s]\n",
            "Epoch 53: 100%|██████████| 20/20 [00:01<00:00, 13.70it/s]\n",
            "Epoch 54: 100%|██████████| 20/20 [00:01<00:00, 13.46it/s]\n",
            "Epoch 55:  95%|█████████▌| 19/20 [00:01<00:00, 13.19it/s]\n",
            "Evaluating:   0%|          | 0/4 [00:00<?, ?it/s]\u001b[A\n",
            "Evaluating: 100%|██████████| 4/4 [00:00<00:00, 22.07it/s]\n",
            "\n",
            "Evaluating:   0%|          | 0/20 [00:00<?, ?it/s]\u001b[A\n",
            "Evaluating:  15%|█▌        | 3/20 [00:00<00:00, 22.51it/s]\u001b[A\n",
            "Evaluating:  30%|███       | 6/20 [00:00<00:00, 21.39it/s]\u001b[A\n",
            "Evaluating:  45%|████▌     | 9/20 [00:00<00:00, 20.96it/s]\u001b[A\n",
            "Evaluating:  60%|██████    | 12/20 [00:00<00:00, 21.01it/s]\u001b[A\n",
            "Evaluating:  75%|███████▌  | 15/20 [00:00<00:00, 21.29it/s]\u001b[A\n",
            "Evaluating: 100%|██████████| 20/20 [00:00<00:00, 21.41it/s]\n",
            "Epoch 55: 100%|██████████| 20/20 [00:02<00:00,  7.32it/s]\n"
          ]
        },
        {
          "output_type": "stream",
          "name": "stdout",
          "text": [
            "\n",
            "Metrics step 1100:\n",
            "  mean_train_loss: 0.1898111292841548\n",
            "  learning_rate: 0.045050054949999536\n",
            "  eval_loss: 0.9293132871389389\n",
            "  eval_accuracy: 0.8510000109672546\n",
            "  train_loss: 0.0018122342618880794\n",
            "  train_accuracy: 0.9998000264167786\n",
            "  mean_eval_loss: 0.6571082615039565\n"
          ]
        },
        {
          "output_type": "stream",
          "name": "stderr",
          "text": [
            "Epoch 56: 100%|██████████| 20/20 [00:01<00:00, 13.60it/s]\n",
            "Epoch 57: 100%|██████████| 20/20 [00:01<00:00, 13.63it/s]\n",
            "Epoch 58: 100%|██████████| 20/20 [00:01<00:00, 13.53it/s]\n",
            "Epoch 59: 100%|██████████| 20/20 [00:01<00:00, 13.40it/s]\n",
            "Epoch 60:  90%|█████████ | 18/20 [00:01<00:00, 13.19it/s]\n",
            "Evaluating:   0%|          | 0/4 [00:00<?, ?it/s]\u001b[A\n",
            "Evaluating: 100%|██████████| 4/4 [00:00<00:00, 21.23it/s]\n",
            "\n",
            "Evaluating:   0%|          | 0/20 [00:00<?, ?it/s]\u001b[A\n",
            "Evaluating:  15%|█▌        | 3/20 [00:00<00:00, 22.82it/s]\u001b[A\n",
            "Evaluating:  30%|███       | 6/20 [00:00<00:00, 22.05it/s]\u001b[A\n",
            "Evaluating:  45%|████▌     | 9/20 [00:00<00:00, 20.85it/s]\u001b[A\n",
            "Evaluating:  60%|██████    | 12/20 [00:00<00:00, 17.72it/s]\u001b[A\n",
            "Evaluating:  70%|███████   | 14/20 [00:00<00:00, 16.79it/s]\u001b[A\n",
            "Evaluating:  80%|████████  | 16/20 [00:00<00:00, 16.57it/s]\u001b[A\n",
            "Evaluating:  90%|█████████ | 18/20 [00:01<00:00, 16.10it/s]\u001b[A\n",
            "Evaluating: 100%|██████████| 20/20 [00:01<00:00, 17.35it/s]\n",
            "Epoch 60: 100%|██████████| 20/20 [00:02<00:00,  7.00it/s]\n"
          ]
        },
        {
          "output_type": "stream",
          "name": "stdout",
          "text": [
            "\n",
            "Metrics step 1200:\n",
            "  mean_train_loss: 0.17453832957393994\n",
            "  learning_rate: 0.04005005994999966\n",
            "  eval_loss: 1.0096174627542496\n",
            "  eval_accuracy: 0.8529999852180481\n",
            "  train_loss: 0.004157658293843269\n",
            "  train_accuracy: 0.9986000061035156\n",
            "  mean_eval_loss: 0.6864840282748143\n"
          ]
        },
        {
          "output_type": "stream",
          "name": "stderr",
          "text": [
            "Epoch 61: 100%|██████████| 20/20 [00:01<00:00, 12.73it/s]\n",
            "Epoch 62: 100%|██████████| 20/20 [00:01<00:00, 13.30it/s]\n",
            "Epoch 63: 100%|██████████| 20/20 [00:01<00:00, 13.33it/s]\n",
            "Epoch 64: 100%|██████████| 20/20 [00:01<00:00, 13.27it/s]\n",
            "Epoch 65:  90%|█████████ | 18/20 [00:01<00:00, 13.01it/s]\n",
            "Evaluating:   0%|          | 0/4 [00:00<?, ?it/s]\u001b[A\n",
            "Evaluating: 100%|██████████| 4/4 [00:00<00:00, 21.53it/s]\n",
            "\n",
            "Evaluating:   0%|          | 0/20 [00:00<?, ?it/s]\u001b[A\n",
            "Evaluating:  15%|█▌        | 3/20 [00:00<00:00, 22.78it/s]\u001b[A\n",
            "Evaluating:  30%|███       | 6/20 [00:00<00:00, 20.86it/s]\u001b[A\n",
            "Evaluating:  45%|████▌     | 9/20 [00:00<00:00, 21.33it/s]\u001b[A\n",
            "Evaluating:  60%|██████    | 12/20 [00:00<00:00, 21.28it/s]\u001b[A\n",
            "Evaluating:  75%|███████▌  | 15/20 [00:00<00:00, 21.30it/s]\u001b[A\n",
            "Evaluating: 100%|██████████| 20/20 [00:00<00:00, 21.71it/s]\n",
            "Epoch 65: 100%|██████████| 20/20 [00:02<00:00,  7.56it/s]\n"
          ]
        },
        {
          "output_type": "stream",
          "name": "stdout",
          "text": [
            "\n",
            "Metrics step 1300:\n",
            "  mean_train_loss: 0.16138410570415615\n",
            "  learning_rate: 0.03505006494999977\n",
            "  eval_loss: 0.9183312207460403\n",
            "  eval_accuracy: 0.8579999804496765\n",
            "  train_loss: 0.0006369118069414981\n",
            "  train_accuracy: 1.0\n",
            "  mean_eval_loss: 0.7043184276956779\n"
          ]
        },
        {
          "output_type": "stream",
          "name": "stderr",
          "text": [
            "Epoch 66: 100%|██████████| 20/20 [00:01<00:00, 13.03it/s]\n",
            "Epoch 67: 100%|██████████| 20/20 [00:01<00:00, 13.05it/s]\n",
            "Epoch 68: 100%|██████████| 20/20 [00:01<00:00, 12.53it/s]\n",
            "Epoch 69: 100%|██████████| 20/20 [00:01<00:00, 13.03it/s]\n",
            "Epoch 70:  90%|█████████ | 18/20 [00:01<00:00, 12.71it/s]\n",
            "Evaluating:   0%|          | 0/4 [00:00<?, ?it/s]\u001b[A\n",
            "Evaluating: 100%|██████████| 4/4 [00:00<00:00, 22.07it/s]\n",
            "\n",
            "Evaluating:   0%|          | 0/20 [00:00<?, ?it/s]\u001b[A\n",
            "Evaluating:  15%|█▌        | 3/20 [00:00<00:00, 23.11it/s]\u001b[A\n",
            "Evaluating:  30%|███       | 6/20 [00:00<00:00, 22.18it/s]\u001b[A\n",
            "Evaluating:  45%|████▌     | 9/20 [00:00<00:00, 22.16it/s]\u001b[A\n",
            "Evaluating:  60%|██████    | 12/20 [00:00<00:00, 21.53it/s]\u001b[A\n",
            "Evaluating:  75%|███████▌  | 15/20 [00:00<00:00, 21.67it/s]\u001b[A\n",
            "Evaluating: 100%|██████████| 20/20 [00:00<00:00, 22.04it/s]\n",
            "Epoch 70: 100%|██████████| 20/20 [00:02<00:00,  7.54it/s]\n"
          ]
        },
        {
          "output_type": "stream",
          "name": "stdout",
          "text": [
            "\n",
            "Metrics step 1400:\n",
            "  mean_train_loss: 0.14989407556040013\n",
            "  learning_rate: 0.030050069949999845\n",
            "  eval_loss: 0.9492327570915222\n",
            "  eval_accuracy: 0.8650000095367432\n",
            "  train_loss: 0.00021180329022172373\n",
            "  train_accuracy: 1.0\n",
            "  mean_eval_loss: 0.7218123083668095\n"
          ]
        },
        {
          "output_type": "stream",
          "name": "stderr",
          "text": [
            "Epoch 71: 100%|██████████| 20/20 [00:01<00:00, 12.81it/s]\n",
            "Epoch 72: 100%|██████████| 20/20 [00:01<00:00, 12.88it/s]\n",
            "Epoch 73: 100%|██████████| 20/20 [00:01<00:00, 12.84it/s]\n",
            "Epoch 74: 100%|██████████| 20/20 [00:01<00:00, 12.63it/s]\n",
            "Epoch 75:  90%|█████████ | 18/20 [00:01<00:00, 12.33it/s]\n",
            "Evaluating:   0%|          | 0/4 [00:00<?, ?it/s]\u001b[A\n",
            "Evaluating: 100%|██████████| 4/4 [00:00<00:00, 20.94it/s]\n",
            "\n",
            "Evaluating:   0%|          | 0/20 [00:00<?, ?it/s]\u001b[A\n",
            "Evaluating:  15%|█▌        | 3/20 [00:00<00:00, 23.41it/s]\u001b[A\n",
            "Evaluating:  30%|███       | 6/20 [00:00<00:00, 22.37it/s]\u001b[A\n",
            "Evaluating:  45%|████▌     | 9/20 [00:00<00:00, 21.87it/s]\u001b[A\n",
            "Evaluating:  60%|██████    | 12/20 [00:00<00:00, 21.37it/s]\u001b[A\n",
            "Evaluating:  75%|███████▌  | 15/20 [00:00<00:00, 21.51it/s]\u001b[A\n",
            "Evaluating: 100%|██████████| 20/20 [00:00<00:00, 21.70it/s]\n",
            "Epoch 75: 100%|██████████| 20/20 [00:02<00:00,  7.25it/s]\n"
          ]
        },
        {
          "output_type": "stream",
          "name": "stdout",
          "text": [
            "\n",
            "Metrics step 1500:\n",
            "  mean_train_loss: 0.13992402518901995\n",
            "  learning_rate: 0.025050074949999862\n",
            "  eval_loss: 0.9840435534715652\n",
            "  eval_accuracy: 0.8529999852180481\n",
            "  train_loss: 0.0001631065835681511\n",
            "  train_accuracy: 1.0\n",
            "  mean_eval_loss: 0.7392943913737933\n"
          ]
        },
        {
          "output_type": "stream",
          "name": "stderr",
          "text": [
            "Epoch 76: 100%|██████████| 20/20 [00:01<00:00, 12.72it/s]\n",
            "Epoch 77: 100%|██████████| 20/20 [00:01<00:00, 12.80it/s]\n",
            "Epoch 78: 100%|██████████| 20/20 [00:01<00:00, 12.90it/s]\n",
            "Epoch 79: 100%|██████████| 20/20 [00:01<00:00, 12.94it/s]\n",
            "Epoch 80:  90%|█████████ | 18/20 [00:01<00:00, 12.81it/s]\n",
            "Evaluating:   0%|          | 0/4 [00:00<?, ?it/s]\u001b[A\n",
            "Evaluating: 100%|██████████| 4/4 [00:00<00:00, 22.03it/s]\n",
            "\n",
            "Evaluating:   0%|          | 0/20 [00:00<?, ?it/s]\u001b[A\n",
            "Evaluating:  10%|█         | 2/20 [00:00<00:00, 19.78it/s]\u001b[A\n",
            "Evaluating:  25%|██▌       | 5/20 [00:00<00:00, 17.95it/s]\u001b[A\n",
            "Evaluating:  35%|███▌      | 7/20 [00:00<00:00, 16.14it/s]\u001b[A\n",
            "Evaluating:  45%|████▌     | 9/20 [00:00<00:00, 15.81it/s]\u001b[A\n",
            "Evaluating:  55%|█████▌    | 11/20 [00:00<00:00, 15.55it/s]\u001b[A\n",
            "Evaluating:  65%|██████▌   | 13/20 [00:00<00:00, 15.22it/s]\u001b[A\n",
            "Evaluating:  75%|███████▌  | 15/20 [00:00<00:00, 15.54it/s]\u001b[A\n",
            "Evaluating:  85%|████████▌ | 17/20 [00:01<00:00, 15.12it/s]\u001b[A\n",
            "Evaluating: 100%|██████████| 20/20 [00:01<00:00, 16.00it/s]\n",
            "Epoch 80: 100%|██████████| 20/20 [00:03<00:00,  6.66it/s]\n"
          ]
        },
        {
          "output_type": "stream",
          "name": "stdout",
          "text": [
            "\n",
            "Metrics step 1600:\n",
            "  mean_train_loss: 0.13119481094592175\n",
            "  learning_rate: 0.02005007994999987\n",
            "  eval_loss: 1.0590737015008926\n",
            "  eval_accuracy: 0.8519999980926514\n",
            "  train_loss: 0.00012448428715288172\n",
            "  train_accuracy: 1.0\n",
            "  mean_eval_loss: 0.759280598256737\n"
          ]
        },
        {
          "output_type": "stream",
          "name": "stderr",
          "text": [
            "Epoch 81: 100%|██████████| 20/20 [00:01<00:00, 12.71it/s]\n",
            "Epoch 82: 100%|██████████| 20/20 [00:01<00:00, 13.19it/s]\n",
            "Epoch 83: 100%|██████████| 20/20 [00:01<00:00, 13.21it/s]\n",
            "Epoch 84: 100%|██████████| 20/20 [00:01<00:00, 13.21it/s]\n",
            "Epoch 85:  90%|█████████ | 18/20 [00:01<00:00, 12.98it/s]\n",
            "Evaluating:   0%|          | 0/4 [00:00<?, ?it/s]\u001b[A\n",
            "Evaluating: 100%|██████████| 4/4 [00:00<00:00, 21.17it/s]\n",
            "\n",
            "Evaluating:   0%|          | 0/20 [00:00<?, ?it/s]\u001b[A\n",
            "Evaluating:  15%|█▌        | 3/20 [00:00<00:00, 22.59it/s]\u001b[A\n",
            "Evaluating:  30%|███       | 6/20 [00:00<00:00, 21.07it/s]\u001b[A\n",
            "Evaluating:  45%|████▌     | 9/20 [00:00<00:00, 21.42it/s]\u001b[A\n",
            "Evaluating:  60%|██████    | 12/20 [00:00<00:00, 21.46it/s]\u001b[A\n",
            "Evaluating:  75%|███████▌  | 15/20 [00:00<00:00, 21.63it/s]\u001b[A\n",
            "Evaluating: 100%|██████████| 20/20 [00:00<00:00, 21.83it/s]\n",
            "Epoch 85: 100%|██████████| 20/20 [00:02<00:00,  7.56it/s]\n"
          ]
        },
        {
          "output_type": "stream",
          "name": "stdout",
          "text": [
            "\n",
            "Metrics step 1700:\n",
            "  mean_train_loss: 0.12349127706398362\n",
            "  learning_rate: 0.015050084949999864\n",
            "  eval_loss: 1.024278163909912\n",
            "  eval_accuracy: 0.8529999852180481\n",
            "  train_loss: 0.00011189509023097343\n",
            "  train_accuracy: 1.0\n",
            "  mean_eval_loss: 0.7748686903539825\n"
          ]
        },
        {
          "output_type": "stream",
          "name": "stderr",
          "text": [
            "Epoch 86: 100%|██████████| 20/20 [00:01<00:00, 13.17it/s]\n",
            "Epoch 87: 100%|██████████| 20/20 [00:01<00:00, 13.12it/s]\n",
            "Epoch 88: 100%|██████████| 20/20 [00:01<00:00, 12.74it/s]\n",
            "Epoch 89: 100%|██████████| 20/20 [00:01<00:00, 13.28it/s]\n",
            "Epoch 90:  90%|█████████ | 18/20 [00:01<00:00, 13.16it/s]\n",
            "Evaluating:   0%|          | 0/4 [00:00<?, ?it/s]\u001b[A\n",
            "Evaluating: 100%|██████████| 4/4 [00:00<00:00, 21.81it/s]\n",
            "\n",
            "Evaluating:   0%|          | 0/20 [00:00<?, ?it/s]\u001b[A\n",
            "Evaluating:  15%|█▌        | 3/20 [00:00<00:00, 22.54it/s]\u001b[A\n",
            "Evaluating:  30%|███       | 6/20 [00:00<00:00, 21.50it/s]\u001b[A\n",
            "Evaluating:  45%|████▌     | 9/20 [00:00<00:00, 21.31it/s]\u001b[A\n",
            "Evaluating:  60%|██████    | 12/20 [00:00<00:00, 21.09it/s]\u001b[A\n",
            "Evaluating:  75%|███████▌  | 15/20 [00:00<00:00, 21.00it/s]\u001b[A\n",
            "Evaluating: 100%|██████████| 20/20 [00:00<00:00, 21.63it/s]\n",
            "Epoch 90: 100%|██████████| 20/20 [00:02<00:00,  7.60it/s]\n"
          ]
        },
        {
          "output_type": "stream",
          "name": "stdout",
          "text": [
            "\n",
            "Metrics step 1800:\n",
            "  mean_train_loss: 0.11664657672472256\n",
            "  learning_rate: 0.010050089949999917\n",
            "  eval_loss: 1.0547404438257217\n",
            "  eval_accuracy: 0.8519999980926514\n",
            "  train_loss: 0.00012184155220893445\n",
            "  train_accuracy: 1.0\n",
            "  mean_eval_loss: 0.7904171211024126\n"
          ]
        },
        {
          "output_type": "stream",
          "name": "stderr",
          "text": [
            "Epoch 91: 100%|██████████| 20/20 [00:01<00:00, 13.27it/s]\n",
            "Epoch 92: 100%|██████████| 20/20 [00:01<00:00, 13.30it/s]\n",
            "Epoch 93: 100%|██████████| 20/20 [00:01<00:00, 13.34it/s]\n",
            "Epoch 94: 100%|██████████| 20/20 [00:01<00:00, 13.20it/s]\n",
            "Epoch 95:  90%|█████████ | 18/20 [00:01<00:00, 12.81it/s]\n",
            "Evaluating:   0%|          | 0/4 [00:00<?, ?it/s]\u001b[A\n",
            "Evaluating: 100%|██████████| 4/4 [00:00<00:00, 22.05it/s]\n",
            "\n",
            "Evaluating:   0%|          | 0/20 [00:00<?, ?it/s]\u001b[A\n",
            "Evaluating:  10%|█         | 2/20 [00:00<00:00, 19.06it/s]\u001b[A\n",
            "Evaluating:  20%|██        | 4/20 [00:00<00:00, 19.23it/s]\u001b[A\n",
            "Evaluating:  35%|███▌      | 7/20 [00:00<00:00, 20.42it/s]\u001b[A\n",
            "Evaluating:  50%|█████     | 10/20 [00:00<00:00, 20.83it/s]\u001b[A\n",
            "Evaluating:  65%|██████▌   | 13/20 [00:00<00:00, 21.07it/s]\u001b[A\n",
            "Evaluating:  80%|████████  | 16/20 [00:00<00:00, 21.34it/s]\u001b[A\n",
            "Evaluating: 100%|██████████| 20/20 [00:00<00:00, 21.32it/s]\n",
            "Epoch 95: 100%|██████████| 20/20 [00:02<00:00,  7.38it/s]\n"
          ]
        },
        {
          "output_type": "stream",
          "name": "stdout",
          "text": [
            "\n",
            "Metrics step 1900:\n",
            "  mean_train_loss: 0.11052154494250747\n",
            "  learning_rate: 0.005050094949999962\n",
            "  eval_loss: 1.0420907586812973\n",
            "  eval_accuracy: 0.8529999852180481\n",
            "  train_loss: 9.893623719108291e-05\n",
            "  train_accuracy: 1.0\n",
            "  mean_eval_loss: 0.803663102027617\n"
          ]
        },
        {
          "output_type": "stream",
          "name": "stderr",
          "text": [
            "Epoch 96: 100%|██████████| 20/20 [00:01<00:00, 13.30it/s]\n",
            "Epoch 97: 100%|██████████| 20/20 [00:01<00:00, 13.36it/s]\n",
            "Epoch 98: 100%|██████████| 20/20 [00:01<00:00, 13.38it/s]\n",
            "Epoch 99: 100%|██████████| 20/20 [00:01<00:00, 13.36it/s]\n",
            "Epoch 100:  90%|█████████ | 18/20 [00:01<00:00, 13.15it/s]\n",
            "Evaluating:   0%|          | 0/4 [00:00<?, ?it/s]\u001b[A\n",
            "Evaluating: 100%|██████████| 4/4 [00:00<00:00, 21.17it/s]\n",
            "\n",
            "Evaluating:   0%|          | 0/20 [00:00<?, ?it/s]\u001b[A\n",
            "Evaluating:  15%|█▌        | 3/20 [00:00<00:00, 22.40it/s]\u001b[A\n",
            "Evaluating:  30%|███       | 6/20 [00:00<00:00, 21.69it/s]\u001b[A\n",
            "Evaluating:  45%|████▌     | 9/20 [00:00<00:00, 20.92it/s]\u001b[A\n",
            "Evaluating:  60%|██████    | 12/20 [00:00<00:00, 17.87it/s]\u001b[A\n",
            "Evaluating:  70%|███████   | 14/20 [00:00<00:00, 16.61it/s]\u001b[A\n",
            "Evaluating:  80%|████████  | 16/20 [00:00<00:00, 16.26it/s]\u001b[A\n",
            "Evaluating:  90%|█████████ | 18/20 [00:01<00:00, 15.97it/s]\u001b[A\n",
            "Evaluating: 100%|██████████| 20/20 [00:01<00:00, 17.43it/s]\n",
            "Epoch 100: 100%|██████████| 20/20 [00:02<00:00,  6.97it/s]"
          ]
        },
        {
          "output_type": "stream",
          "name": "stdout",
          "text": [
            "\n",
            "Metrics step 2000:\n",
            "  mean_train_loss: 0.1050060179176362\n",
            "  learning_rate: 5.009994999999962e-05\n",
            "  eval_loss: 1.051689401268959\n",
            "  eval_accuracy: 0.8629999756813049\n",
            "  train_loss: 9.803882239793893e-05\n",
            "  train_accuracy: 1.0\n",
            "  mean_eval_loss: 0.8160644169896841\n"
          ]
        },
        {
          "output_type": "stream",
          "name": "stderr",
          "text": [
            "\n"
          ]
        }
      ]
    },
    {
      "cell_type": "markdown",
      "source": [
        "### 10. Load our saved best model checkpoint\n",
        "\n",
        "We can make use of the `load_best_model` function defined above to quickly load \\\n",
        "the best model checkpoint for further evaluation.\n",
        "\n",
        "You can find more information on saving and loading model weights at\n",
        "\n",
        "https://pytorch.org/tutorials/beginner/saving_loading_models.html."
      ],
      "metadata": {
        "id": "C27zjwzquLGx"
      }
    },
    {
      "cell_type": "code",
      "source": [
        "best_model = load_best_model(FashionMnistResNet18())"
      ],
      "metadata": {
        "id": "w8AolrjruF4I",
        "colab": {
          "base_uri": "https://localhost:8080/"
        },
        "outputId": "3dca6b87-ee2b-4f42-f54c-e503133d4534"
      },
      "execution_count": null,
      "outputs": [
        {
          "output_type": "stream",
          "name": "stdout",
          "text": [
            "Loaded best FashionMnistResNet18 model from best_model.pt\n",
            "\n"
          ]
        }
      ]
    },
    {
      "cell_type": "markdown",
      "source": [
        "### 11. Evaluate your best model and visualize the confusion matrix\n",
        "\n",
        "TODO: You should implement this yourself using the functions defined above."
      ],
      "metadata": {
        "id": "t4DlELCbvybc"
      }
    },
    {
      "cell_type": "code",
      "source": [
        "# TODO\n",
        "eval = evaluate(\n",
        "    model = best_model,\n",
        "    eval_dataloader = test_dataloader\n",
        ")\n",
        "\n",
        "classes = [\"T-shirt/top\", \"Trouser\", \"Pullover\", \"Dress\", \"Coat\",\n",
        "        \"Sandal\", \"Shirt\", \"Sneaker\", \"Bag\", \"Ankle boot\"]\n",
        "sns.heatmap(\n",
        "    data = eval.get('eval_conf_matrix'),\n",
        "    xticklabels=classes,\n",
        "    yticklabels=classes,\n",
        "    cmap = 'crest',\n",
        "    annot = True\n",
        ")\n",
        "plt.xticks(rotation=45)\n",
        "plt.title(\"Confusion Matrix of Test Dataset\")"
      ],
      "metadata": {
        "id": "WKHN3rh6v-mU",
        "colab": {
          "base_uri": "https://localhost:8080/",
          "height": 536
        },
        "outputId": "f4ddf8bf-69c6-494f-fc63-d23a15ba67c8"
      },
      "execution_count": null,
      "outputs": [
        {
          "output_type": "stream",
          "name": "stderr",
          "text": [
            "Evaluating: 100%|██████████| 4/4 [00:00<00:00, 16.42it/s]\n"
          ]
        },
        {
          "output_type": "execute_result",
          "data": {
            "text/plain": [
              "Text(0.5, 1.0, 'Confusion Matrix of Test Dataset')"
            ]
          },
          "metadata": {},
          "execution_count": 67
        },
        {
          "output_type": "display_data",
          "data": {
            "text/plain": [
              "<Figure size 640x480 with 2 Axes>"
            ],
            "image/png": "[encoded data removed]"
          },
          "metadata": {}
        }
      ]
    },
    {
      "cell_type": "code",
      "source": [
        "print(\"Test accuracy at the best validation loss\")\n",
        "eval.get(\"eval_accuracy\")"
      ],
      "metadata": {
        "colab": {
          "base_uri": "https://localhost:8080/"
        },
        "id": "3eqRprgDyfJp",
        "outputId": "7c204471-14d9-4a90-d3c3-eb11f4124ef2"
      },
      "execution_count": null,
      "outputs": [
        {
          "output_type": "stream",
          "name": "stdout",
          "text": [
            "Test accuracy at the best validation loss\n"
          ]
        },
        {
          "output_type": "execute_result",
          "data": {
            "text/plain": [
              "0.8360000252723694"
            ]
          },
          "metadata": {},
          "execution_count": 70
        }
      ]
    },
    {
      "cell_type": "markdown",
      "source": [
        "### 12. Plot your loss curves\n",
        "\n",
        "TODO: You should implement this yourself. Use the `metrics_dict` returned by the training loop."
      ],
      "metadata": {
        "id": "VpGn2mqkv9H0"
      }
    },
    {
      "cell_type": "code",
      "source": [
        "metrics_dict.get(100)"
      ],
      "metadata": {
        "colab": {
          "base_uri": "https://localhost:8080/"
        },
        "id": "JyFZbQ3Ki6Ug",
        "outputId": "136b10f9-59d7-44b9-c3ff-327880d4b46f"
      },
      "execution_count": null,
      "outputs": [
        {
          "output_type": "execute_result",
          "data": {
            "text/plain": [
              "{'mean_train_loss': 0.817957621216774,\n",
              " 'learning_rate': 0.09505000494999999,\n",
              " 'eval_loss': 0.5853217244148254,\n",
              " 'eval_accuracy': 0.7900000214576721,\n",
              " 'eval_conf_matrix': array([[ 61,   0,   0,  21,   0,   0,   3,   0,   1,   0],\n",
              "        [  0, 102,   0,   3,   1,   0,   0,   0,   0,   0],\n",
              "        [  3,   0,  66,   5,  25,   0,  14,   0,   1,   0],\n",
              "        [  0,   0,   0,  92,   3,   0,   0,   0,   0,   0],\n",
              "        [  0,   1,   1,   9,  74,   0,   5,   0,   1,   0],\n",
              "        [  0,   0,   0,   1,   0,  74,   0,  11,   6,   1],\n",
              "        [ 18,   0,  11,  19,  17,   0,  26,   0,   2,   0],\n",
              "        [  0,   0,   0,   0,   0,   3,   0,  88,   0,   9],\n",
              "        [  0,   0,   0,   2,   1,   0,   0,   2, 106,   0],\n",
              "        [  0,   0,   0,   0,   0,   2,   0,   8,   0, 101]]),\n",
              " 'train_loss': 0.49934637248516084,\n",
              " 'train_accuracy': 0.8176000118255615,\n",
              " 'train_conf_matrix': array([[360,   0,   3, 133,   0,   0,  19,   0,   5,   0],\n",
              "        [  0, 441,   0,  13,   1,   0,   0,   0,   1,   0],\n",
              "        [  4,   0, 296,  19,  98,   0,  68,   0,   1,   0],\n",
              "        [  0,   2,   2, 518,  10,   0,   2,   0,   1,   0],\n",
              "        [  1,   0,   4,  32, 461,   0,  23,   0,  12,   0],\n",
              "        [  0,   0,   1,   0,   0, 432,   0,  69,   2,   9],\n",
              "        [ 70,   0,  47,  82,  95,   0, 229,   0,   5,   0],\n",
              "        [  0,   0,   0,   0,   0,   5,   0, 457,   1,  26],\n",
              "        [  1,   0,   2,   1,   2,   1,   2,   3, 443,   0],\n",
              "        [  0,   0,   0,   0,   0,   1,   0,  31,   2, 451]]),\n",
              " 'mean_eval_loss': 0.5853217244148254}"
            ]
          },
          "metadata": {},
          "execution_count": 33
        }
      ]
    },
    {
      "cell_type": "code",
      "source": [
        "# TODO\n",
        "# Retrieving relevant data\n",
        "reported_epochs = list(metrics_dict.keys())\n",
        "training_losses = [metrics_dict.get(epoch).get(\"mean_train_loss\") for epoch in reported_epochs]\n",
        "validation_losses = [metrics_dict.get(epoch).get(\"mean_eval_loss\") for epoch in reported_epochs]\n",
        "\n",
        "# Plotting\n",
        "sns.set_style(\"darkgrid\")\n",
        "sns.lineplot(x=reported_epochs, y=training_losses, label=\"Training loss\")\n",
        "#sns.scatterplot(x=reported_epochs, y=training_losses)\n",
        "sns.lineplot(x=reported_epochs, y=validation_losses, label=\"Validation loss\")\n",
        "#sns.scatterplot(x=reported_epochs, y=validation_losses)\n",
        "plt.title(\"Training loss vs. Validation loss\")\n",
        "plt.xlabel(\"Epochs\")\n",
        "plt.ylabel(\"Loss\")"
      ],
      "metadata": {
        "id": "DJeeESOUwzVz",
        "colab": {
          "base_uri": "https://localhost:8080/",
          "height": 489
        },
        "outputId": "edf46243-afd7-47cc-9369-875894093b73"
      },
      "execution_count": null,
      "outputs": [
        {
          "output_type": "execute_result",
          "data": {
            "text/plain": [
              "Text(0, 0.5, 'Loss')"
            ]
          },
          "metadata": {},
          "execution_count": 56
        },
        {
          "output_type": "display_data",
          "data": {
            "text/plain": [
              "<Figure size 640x480 with 1 Axes>"
            ],
            "image/png": "[encoded data removed]"
          },
          "metadata": {}
        }
      ]
    },
    {
      "cell_type": "markdown",
      "source": [
        "### 12. Plot your accuracy curves\n",
        "\n",
        "TODO: You should implement this yourself. Use the `metrics_dict` returned by the training loop."
      ],
      "metadata": {
        "id": "T9B2Pp3ywDEf"
      }
    },
    {
      "cell_type": "code",
      "source": [
        "# TODO\n",
        "# Retrieving relevant data\n",
        "reported_epochs = metrics_dict.keys()\n",
        "training_accuracies = [metrics_dict.get(epoch).get(\"train_accuracy\") for epoch in reported_epochs]\n",
        "validation_accuracies = [metrics_dict.get(epoch).get(\"eval_accuracy\") for epoch in reported_epochs]\n",
        "\n",
        "# Plotting\n",
        "sns.set_style(\"darkgrid\")\n",
        "sns.lineplot(x=reported_epochs, y=training_accuracies, label=\"Training accuracies\")\n",
        "#sns.scatterplot(x=reported_epochs, y=training_accuracies)\n",
        "sns.lineplot(x=reported_epochs, y=validation_accuracies, label=\"Validation accuracies\")\n",
        "#sns.scatterplot(x=reported_epochs, y=validation_accuracies)\n",
        "plt.title(\"Training accuracy vs. Validation accruacy\")\n",
        "plt.xlabel(\"Epochs\")\n",
        "plt.ylabel(\"Accuracy\")\n"
      ],
      "metadata": {
        "id": "5GkdPLh8w3oi",
        "colab": {
          "base_uri": "https://localhost:8080/",
          "height": 489
        },
        "outputId": "aaeed43f-80eb-4029-a40a-361b772fef3c"
      },
      "execution_count": null,
      "outputs": [
        {
          "output_type": "execute_result",
          "data": {
            "text/plain": [
              "Text(0, 0.5, 'Accuracy')"
            ]
          },
          "metadata": {},
          "execution_count": 57
        },
        {
          "output_type": "display_data",
          "data": {
            "text/plain": [
              "<Figure size 640x480 with 1 Axes>"
            ],
            "image/png": "[encoded data removed]"
          },
          "metadata": {}
        }
      ]
    },
    {
      "cell_type": "code",
      "source": [
        "best_validation_loss_idx = np.argmin(validation_losses)\n",
        "best_validation_loss_idx"
      ],
      "metadata": {
        "colab": {
          "base_uri": "https://localhost:8080/"
        },
        "id": "VSJJzsJqpFKm",
        "outputId": "c6a9aba1-a4e2-4388-9382-304aea582f4c"
      },
      "execution_count": null,
      "outputs": [
        {
          "output_type": "execute_result",
          "data": {
            "text/plain": [
              "2"
            ]
          },
          "metadata": {},
          "execution_count": 58
        }
      ]
    },
    {
      "cell_type": "code",
      "source": [],
      "metadata": {
        "id": "ZaiJi3dcvnfC"
      },
      "execution_count": null,
      "outputs": []
    }
  ]
}