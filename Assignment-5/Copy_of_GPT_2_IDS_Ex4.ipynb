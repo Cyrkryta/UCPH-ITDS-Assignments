{
  "nbformat": 4,
  "nbformat_minor": 0,
  "metadata": {
    "colab": {
      "provenance": [],
      "gpuType": "T4"
    },
    "kernelspec": {
      "name": "python3",
      "display_name": "Python 3"
    },
    "language_info": {
      "name": "python"
    },
    "accelerator": "GPU"
  },
  "cells": [
    {
      "cell_type": "code",
      "execution_count": 4,
      "metadata": {
        "id": "81NnYz0v76LU"
      },
      "outputs": [],
      "source": [
        "from transformers import pipeline, set_seed\n",
        "generator = pipeline('text-generation', model='gpt2')\n",
        "set_seed(42)"
      ]
    },
    {
      "cell_type": "code",
      "source": [
        "generator(\"This is an example of how you use an LLM\", max_length=20, num_return_sequences=3, pad_token_id=generator.tokenizer.eos_token_id, truncation=True)"
      ],
      "metadata": {
        "id": "8pISFxPD79mU"
      },
      "execution_count": null,
      "outputs": []
    },
    {
      "cell_type": "code",
      "source": [
        "# TODO: predict the sentence given the sentence prefixes\n",
        "sentence_prefixes = [\"It is not for me to\", \"Sherlock Holmes is\", \"The mystery of\"]\n",
        "for prefix in sentence_prefixes:\n",
        "  prefix_result = generator(prefix, max_length=20, num_return_sequences=1, pad_token_id=generator.tokenizer.eos_token_id, truncation=True)\n",
        "  print(prefix_result)\n"
      ],
      "metadata": {
        "id": "0T5imC9B88HI",
        "colab": {
          "base_uri": "https://localhost:8080/"
        },
        "outputId": "f0d999f3-a83f-4099-fc48-de1f3b3a9363"
      },
      "execution_count": 5,
      "outputs": [
        {
          "output_type": "stream",
          "name": "stdout",
          "text": [
            "[{'generated_text': 'It is not for me to speculate what that means. But whatever the final conclusion, I believe it'}]\n",
            "[{'generated_text': 'Sherlock Holmes is being prosecuted in the United States on the \"serious and aggravated computer fraud\" charge'}]\n",
            "[{'generated_text': 'The mystery of this book?\\n\\nThe books are not necessarily a collection of the same titles and'}]\n"
          ]
        }
      ]
    }
  ]
}