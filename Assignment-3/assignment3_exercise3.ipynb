{
 "cells": [
  {
   "cell_type": "code",
   "execution_count": 6,
   "metadata": {},
   "outputs": [],
   "source": [
    "# Installing dependencies\n",
    "import numpy as np\n",
    "import pymc as pm"
   ]
  },
  {
   "cell_type": "code",
   "execution_count": 14,
   "metadata": {},
   "outputs": [],
   "source": [
    "# Generate some toy data\n",
    "np.random.seed(42)\n",
    "# n data point in the data set\n",
    "n = 100\n",
    "# x in [0, 10]\n",
    "x_data = np.linspace(0, 10, int(n))\n",
    "# the known parameters of the linear model (y=a*x+b)\n",
    "true_slope = a = 3\n",
    "true_intercept = b = 1.0\n",
    "# y=a*x+b+N(mu=0,sigma=1)\n",
    "## Note: np.random.normal adds Gaussian noise from N(0,1)\n",
    "y_data = true_slope * x_data + true_intercept + np.random.normal(size=n)"
   ]
  },
  {
   "cell_type": "code",
   "execution_count": 37,
   "metadata": {},
   "outputs": [
    {
     "name": "stderr",
     "output_type": "stream",
     "text": [
      "Multiprocess sampling (2 chains in 4 jobs)\n",
      "NUTS: [slope, intercept, y]\n"
     ]
    },
    {
     "data": {
      "text/html": [
       "\n",
       "<style>\n",
       "    /* Turns off some styling */\n",
       "    progress {\n",
       "        /* gets rid of default border in Firefox and Opera. */\n",
       "        border: none;\n",
       "        /* Needs to be in here for Safari polyfill so background images work as expected. */\n",
       "        background-size: auto;\n",
       "    }\n",
       "    progress:not([value]), progress:not([value])::-webkit-progress-bar {\n",
       "        background: repeating-linear-gradient(45deg, #7e7e7e, #7e7e7e 10px, #5c5c5c 10px, #5c5c5c 20px);\n",
       "    }\n",
       "    .progress-bar-interrupted, .progress-bar-interrupted::-webkit-progress-bar {\n",
       "        background: #F44336;\n",
       "    }\n",
       "</style>\n"
      ],
      "text/plain": [
       "<IPython.core.display.HTML object>"
      ]
     },
     "metadata": {},
     "output_type": "display_data"
    },
    {
     "data": {
      "text/html": [
       "\n",
       "    <div>\n",
       "      <progress value='2200' class='' max='2200' style='width:300px; height:20px; vertical-align: middle;'></progress>\n",
       "      100.00% [2200/2200 00:14&lt;00:00 Sampling 2 chains, 0 divergences]\n",
       "    </div>\n",
       "    "
      ],
      "text/plain": [
       "<IPython.core.display.HTML object>"
      ]
     },
     "metadata": {},
     "output_type": "display_data"
    },
    {
     "name": "stderr",
     "output_type": "stream",
     "text": [
      "Sampling 2 chains for 100 tune and 1_000 draw iterations (200 + 2_000 draws total) took 19 seconds.\n",
      "The acceptance probability does not match the target. It is 0.9106, but should be close to 0.8. Try to increase the number of tuning steps.\n",
      "The acceptance probability does not match the target. It is 0.9134, but should be close to 0.8. Try to increase the number of tuning steps.\n"
     ]
    }
   ],
   "source": [
    "# Define the model\n",
    "with pm.Model() as model:\n",
    "    # Register the data - useful for later predictions,\n",
    "    # when we replace x to predict y\n",
    "    x = pm.Data('x', x_data, mutable=True)\n",
    "    y = pm.Data('y_obs', y_data)\n",
    "\n",
    "    # Define priors\n",
    "    # Slope\n",
    "    a = pm.Normal(\"slope\", mu=0, sigma=1)\n",
    "    # Intercapt\n",
    "    b = pm.Normal(\"intercept\", mu=0, sigma=1)\n",
    "    # Standard deviation - Note HalfNormal!\n",
    "    s = pm.HalfNormal(\"sigma\", sigma=1, observed=y)\n",
    "    # Define the likelihood (note the \"observed\" argument, and mu=ax+b)\n",
    "    likelihood = pm.Normal(\"y\", mu=a*x + b, sigma=s)\n",
    "    # Now we define the inference engine\n",
    "    # We will sample from the posterior using MCMC (Hamiltonian MC, NUTS)\n",
    "    step = pm.NUTS()\n",
    "    # The trace variable contains the samples a,b,s ~ P(a,b,s|D)\n",
    "    trace = pm.sample(1000, tune=100, init=None, step=step, chains=2)"
   ]
  },
  {
   "cell_type": "code",
   "execution_count": null,
   "metadata": {},
   "outputs": [],
   "source": []
  }
 ],
 "metadata": {
  "kernelspec": {
   "display_name": "itdsA3-e3",
   "language": "python",
   "name": "python3"
  },
  "language_info": {
   "codemirror_mode": {
    "name": "ipython",
    "version": 3
   },
   "file_extension": ".py",
   "mimetype": "text/x-python",
   "name": "python",
   "nbconvert_exporter": "python",
   "pygments_lexer": "ipython3",
   "version": "3.10.13"
  }
 },
 "nbformat": 4,
 "nbformat_minor": 2
}
